{
 "cells": [
  {
   "cell_type": "markdown",
   "metadata": {
    "slideshow": {
     "slide_type": "slide"
    }
   },
   "source": [
    "## MTH 9875 The Volatility Surface:    Fall 2015\n",
    "\n",
    "<p>\n",
    "\n",
    "### Lecture 6: Characteristic function methods, models with jumps\n",
    "\n",
    "\n",
    "Jim Gatheral   \n",
    "Department of Mathematics   \n",
    "  \n",
    "  \n",
    "<h3><img src=\"http://mfe.baruch.cuny.edu/wp-content/uploads/2014/07/BaruchLogo2.png\" align = \"left\" width=160></h3>    \n",
    "\n",
    "<h3><img src=\"http://mfe.baruch.cuny.edu/wp-content/uploads/2014/07/MFElogo.png\" align = \"right\" width=100></h3>"
   ]
  },
  {
   "cell_type": "markdown",
   "metadata": {
    "slideshow": {
     "slide_type": "slide"
    }
   },
   "source": [
    "### Outline of lecture\n",
    "\n",
    "* Motivation for jumps\n",
    "\n",
    "* Derivation of the valuation equation under jump-diffusion\n",
    "\n",
    "* Characteristic function methods\n",
    "\n",
    "* Lévy processes and the Lévy-Khintchine formula\n",
    "\n",
    "* Characteristics of the volatility surface under jump-diffusion\n",
    "\n",
    "* Default modeled as jump-to-ruin\n",
    "\n",
    "* Capital structure arbitrage"
   ]
  },
  {
   "cell_type": "markdown",
   "metadata": {
    "slideshow": {
     "slide_type": "slide"
    }
   },
   "source": [
    "### Jumps\n",
    "\n",
    "- We already saw in Lecture 5 that the Heston model generates a volatility surface that looks very different from the empirical one for short expirations.\n",
    "\n",
    "\n",
    "-  The conventional solution is to introduce jumps.  In this lecture, we will motivate this modeling choice."
   ]
  },
  {
   "cell_type": "markdown",
   "metadata": {
    "slideshow": {
     "slide_type": "subslide"
    }
   },
   "source": [
    "- We will see that introducing jumps has very little effect on the shape of the volatility surface for longer-dated options; the impact on the shape of the volatility surface is all at the short-expiration end.  \n",
    "\n",
    "    -  Thus, stochastic volatility and jump parameters may be robustly calibrated to the empirical volatility surface.\n",
    "\n",
    "\n",
    "- We conclude by showing that the volatility smile for single-stock options is very sensitive to default risk."
   ]
  },
  {
   "cell_type": "markdown",
   "metadata": {
    "slideshow": {
     "slide_type": "slide"
    }
   },
   "source": [
    "### Option prices as of the close on September 15, 2005\n",
    "\n",
    "<p>\n",
    "\n",
    "<div align=\"center\">Table 1: September 2005 expiration option prices as of the close on September 15, 2005. Triple witching is the following day. SPX is trading at 1227.73.\n",
    "<p>\n",
    "\n",
    "Strike$~~~~~~$|$~~~~~~$Call Bid|$~~~~~~$Call Ask|$~~~~~~$Put Bid|$~~~~~~$Put Ask\n",
    ":------|------:|--------:|------:|------:\n",
    "1160 | 66.70 | 68.70 | 0.05 | 0.25\n",
    "1170 | 56.70 | 58.70 | 0.05 | 0.35\n",
    "1175 | 51.70 | 53.70 | 0.05 | 0.10\n",
    "1180 | 46.70 | 48.70 | 0.10 | 0.30\n",
    "1190 | 36.70 | 38.70 | 0.10 | 0.15\n",
    "1195 | 31.70 | 33.70 | 0.05 | 0.20\n",
    "1200 | 26.70 | 28.70 | 0.15 | 0.25\n",
    "1205 | 21.70 | 23.70 | 0.25 | 0.30\n",
    "1210 | 16.80 | 18.60 | 0.30 | 0.40\n",
    "1215 | 11.90 | 13.70 | 0.30 | 0.45\n",
    "1220 | 8.00 | 8.80 | 0.65 | 0.75\n",
    "1225 | 3.90 | 4.20 | 1.10 | 1.90\n",
    "1230 | 1.50 | 2.00 | 2.80 | 4.20\n",
    "1235 | 0.35 | 0.50 | 6.70 | 8.30\n",
    "1240 | 0.15 | 0.25 | 11.40 | 13.20\n",
    "1245 | 0.15 | 0.70 | 16.40 | 18.00\n",
    "1250 | 0.05 | 0.10 | 21.30 | 22.70"
   ]
  },
  {
   "cell_type": "markdown",
   "metadata": {
    "slideshow": {
     "slide_type": "slide"
    }
   },
   "source": [
    "### Why models have jumps\n",
    "\n",
    "* We indicated earlier the possibility that jumps might be used to explain why the skew is so steep for very short expirations.\n",
    "\n",
    "\n",
    "* Another indication that jumps might be useful to explain the volatility surface comes from Table 1. There, we see that there is a 5 cent bid for a 1160 put which is over 67 points out-of-the-money expiring the following morning."
   ]
  },
  {
   "cell_type": "markdown",
   "metadata": {
    "slideshow": {
     "slide_type": "slide"
    }
   },
   "source": [
    "### Inconsistency with diffusion\n",
    "\n",
    "* Historically, about 40% of the variance of SPX is from overnight moves and the at-the-money volatility at the time was about $10\\%$.\n",
    "\n",
    "    * With these parameters, a 67 point move corresponds to around 13.7 standard deviations.\n",
    "\n",
    "\n",
    "* The probability of a normally distributed variable making such a move is zero (to about forty decimal places).\n",
    "\n",
    "    * And these 5 cent bids are only bids; one might suppose that actual trades would take place somewhere between the bid and the offer."
   ]
  },
  {
   "cell_type": "markdown",
   "metadata": {
    "slideshow": {
     "slide_type": "subslide"
    }
   },
   "source": [
    "* Similarly, there is a 5 cent bid for a call struck at 1250, about 23 points out-of-the-money.\n",
    "\n",
    "    *  That’s only about 4.7 standard deviations but even the probability of a normally distributed variable making that much smaller move is only just over one in a million. \n",
    "\n",
    "\n",
    "* Diffusions just can’t generate the size of moves over very short\n",
    "timescales that would be required to justify such option prices.</span>"
   ]
  },
  {
   "cell_type": "markdown",
   "metadata": {
    "slideshow": {
     "slide_type": "slide"
    }
   },
   "source": [
    "### Short-covering as an explanation\n",
    "\n",
    "* High bids for options that would require an extreme move to end up in-the-money reflect the extreme short-end smile in the SPX market just prior to expiration.\n",
    "\n",
    "\n",
    "* From the perspective of a trader, the explanation is straightforward: large moves do sometimes occur and it makes economic sense to bid for out-of-the-money options – at the very least to cover existing risk.\n",
    "\n",
    "\n",
    "* A similar explanation points out that a position of short very out-of-the-money options requires margin.  Covering the short fixes this."
   ]
  },
  {
   "cell_type": "markdown",
   "metadata": {
    "slideshow": {
     "slide_type": "slide"
    }
   },
   "source": [
    "### Very short expiration volatility smile"
   ]
  },
  {
   "cell_type": "code",
   "execution_count": 1,
   "metadata": {
    "collapsed": false,
    "slideshow": {
     "slide_type": "fragment"
    }
   },
   "outputs": [],
   "source": [
    "download.file(url=\"http://mfe.baruch.cuny.edu/wp-content/uploads/2015/10/9875-6.zip\", destfile=\"9875-6.zip\")\n",
    "unzip(zipfile=\"9875-6.zip\")\n",
    "\n",
    "source(\"BlackScholes.R\")\n",
    "source(\"Heston2.R\")"
   ]
  },
  {
   "cell_type": "markdown",
   "metadata": {
    "slideshow": {
     "slide_type": "fragment"
    }
   },
   "source": [
    "Load option volatility data from 15-Sep-2005"
   ]
  },
  {
   "cell_type": "code",
   "execution_count": 2,
   "metadata": {
    "collapsed": false,
    "slideshow": {
     "slide_type": "fragment"
    }
   },
   "outputs": [],
   "source": [
    "load(\"spx050915.rData\")"
   ]
  },
  {
   "cell_type": "markdown",
   "metadata": {
    "slideshow": {
     "slide_type": "subslide"
    }
   },
   "source": [
    "Here's the pre-cooked SVI fit again:"
   ]
  },
  {
   "cell_type": "code",
   "execution_count": 3,
   "metadata": {
    "collapsed": false,
    "slideshow": {
     "slide_type": "fragment"
    }
   },
   "outputs": [],
   "source": [
    "texp <- sort(unique(spxOptData$Texp));\n",
    "\n",
    "svidata <- c(\n",
    " c(-0.0001449630, 0.0092965440, 0.0196713280, -0.2941176470,-0.0054273230),\n",
    " c(-0.000832134\t, 0.024439766 , 0.069869455 , -0.299975308 , 0.02648364  ), \n",
    " c(-0.0008676750, 0.0282906450, 0.0873835580, -0.2892204290, 0.0592703000), \n",
    " c(-0.0000591593, 0.0331790820, 0.0812872370, -0.3014043240, 0.0652549210),\n",
    " c(0.0011431940\t, 0.0462796440, 0.1040682980, -0.3530782140, 0.0942000770), \n",
    " c(0.0022640980\t, 0.0562604150, 0.1305339330, -0.4387409470, 0.1111230690), \n",
    " c(0.0040335530\t, 0.0733707550, 0.1707947600, -0.4968970370, 0.1496609160), \n",
    " c(0.0034526910\t, 0.0917230540, 0.2236814130, -0.4942213210, 0.1854128490));\n",
    "\n",
    "sviMatrix <- as.data.frame(t(array(svidata,dim=c(5,8))));\n",
    "colnames(sviMatrix)<-c(\"a\",\"b\",\"sig\",\"rho\",\"m\")\n",
    "\n",
    "# Extract first expiration (less than one day)\n",
    "t1 <- texp[1];\n",
    "spxOptData1 <- spxOptData[spxOptData$Texp==t1,];"
   ]
  },
  {
   "cell_type": "markdown",
   "metadata": {
    "slideshow": {
     "slide_type": "slide"
    }
   },
   "source": [
    "### Heston short-dated smile is relatively flat\n",
    "\n",
    "In Figure 1, we plot observed implied volatilities and the SVI fit together with the implied volatility smile generated by the Heston model with Sep05 SPX parameters from Table 3 of Lecture 5:\n",
    "\n",
    "$$v  = 0.0174;\\,\n",
    "\\bar v  =  0.0354;\\,\n",
    "\\eta = 0.3877;\\,\n",
    "\\rho  =  -0.7165;\\,\n",
    "\\lambda  =1.3253;\\,$$"
   ]
  },
  {
   "cell_type": "code",
   "execution_count": 4,
   "metadata": {
    "collapsed": false,
    "slideshow": {
     "slide_type": "fragment"
    }
   },
   "outputs": [],
   "source": [
    "paramsHeston050915 <- list(\n",
    "  v= 0.0174,\n",
    "  vbar=0.0354,\n",
    "  eta=0.3877,\n",
    "  rho=-0.7165,\n",
    "  lambda=1.3253)\n",
    "\n",
    "# Draw the smile\n",
    "k <- seq(-.1,.1,0.001) # Vector of log-strikes\n",
    "vol1 <- function(k){impvolHeston(paramsHeston050915)(k,t1)}\n",
    "volHeston <- function(k){sapply(k,function(k){vol1(k)})}\n",
    "volH <- volHeston(k)"
   ]
  },
  {
   "cell_type": "code",
   "execution_count": 5,
   "metadata": {
    "collapsed": false,
    "slideshow": {
     "slide_type": "subslide"
    }
   },
   "outputs": [
    {
     "ename": "ERROR",
     "evalue": "Error in eval(expr, envir, enclos): could not find function \"plotIvols\"\n",
     "output_type": "error",
     "traceback": [
      "Error in eval(expr, envir, enclos): could not find function \"plotIvols\"\n"
     ]
    },
    {
     "ename": "ERROR",
     "evalue": "Error in plot.xy(xy.coords(x, y), type = type, ...): plot.new has not been called yet\n",
     "output_type": "error",
     "traceback": [
      "Error in plot.xy(xy.coords(x, y), type = type, ...): plot.new has not been called yet\n"
     ]
    }
   ],
   "source": [
    "plotIvols(spxOptData1,sviMatrix[1,])\n",
    "points(k,volH,col=\"dark green\", lty=2,type=\"l\",lwd=2)"
   ]
  },
  {
   "cell_type": "markdown",
   "metadata": {
    "slideshow": {
     "slide_type": "fragment"
    }
   },
   "source": [
    "Figure 1: Graph of the September 16, 2005 expiration volatility smile as of the close on September 15, 2005. SPX is trading at 1227.73. Red and blue lines are bids and offers. The orange line is an SVI fit to the data. The dashed dark green line represents the Heston skew with Sep05 SPX parameters."
   ]
  },
  {
   "cell_type": "markdown",
   "metadata": {
    "slideshow": {
     "slide_type": "subslide"
    }
   },
   "source": [
    "* Note in particular that the Heston smile is flat and completely inconsistent with the empirically observed smile.\n",
    "\n",
    "\n",
    "* Extreme very short-end skews are incompatible with stochastic volatility\n",
    "\n",
    "    * If the underlying process is a diffusion and volatility of volatility is reasonable, volatility should be near constant on timescale that is much shorter than the half-life of the volatility process.\n",
    "\n",
    "    * For very short times, returns should be roughly normally distributed and the skew should be quite flat."
   ]
  },
  {
   "cell_type": "markdown",
   "metadata": {
    "slideshow": {
     "slide_type": "subslide"
    }
   },
   "source": [
    "### Extreme volatility of volatility works better\n",
    "\n",
    "Now increase the volatility from $0.39$ to $10$, obviously a very extreme choice."
   ]
  },
  {
   "cell_type": "code",
   "execution_count": 6,
   "metadata": {
    "collapsed": false,
    "slideshow": {
     "slide_type": "fragment"
    }
   },
   "outputs": [],
   "source": [
    "paramsHeston050915adj <- list(\n",
    "  v= 0.0174,\n",
    "  vbar=0.0354,\n",
    "  eta=10,\n",
    "  rho=-0.7165,\n",
    "  lambda=1.3253)\n",
    "\n",
    "# Draw the smile\n",
    "k <- seq(-.1,.1,0.001) # Vector of log-strikes\n",
    "vol1 <- function(k){impvolHeston(paramsHeston050915adj)(k,t1)}\n",
    "volHeston <- function(k){sapply(k,function(k){vol1(k)})}\n",
    "volH <- volHeston(k)"
   ]
  },
  {
   "cell_type": "code",
   "execution_count": 7,
   "metadata": {
    "collapsed": false,
    "slideshow": {
     "slide_type": "subslide"
    }
   },
   "outputs": [
    {
     "ename": "ERROR",
     "evalue": "Error in eval(expr, envir, enclos): could not find function \"plotIvols\"\n",
     "output_type": "error",
     "traceback": [
      "Error in eval(expr, envir, enclos): could not find function \"plotIvols\"\n"
     ]
    },
    {
     "ename": "ERROR",
     "evalue": "Error in plot.xy(xy.coords(x, y), type = type, ...): plot.new has not been called yet\n",
     "output_type": "error",
     "traceback": [
      "Error in plot.xy(xy.coords(x, y), type = type, ...): plot.new has not been called yet\n"
     ]
    }
   ],
   "source": [
    "plotIvols(spxOptData1,sviMatrix[1,])\n",
    "points(k,volH,col=\"dark green\", lty=2,type=\"l\",lwd=2)"
   ]
  },
  {
   "cell_type": "markdown",
   "metadata": {
    "slideshow": {
     "slide_type": "slide"
    }
   },
   "source": [
    "### Derivation of the jump-diffusion valuation equation\n",
    "\n",
    "Following [Wilmott]<sup id=\"cite_ref-Wilmott\" class=\"reference\"><a href=\"#cite_note-Wilmott\"><span>[</span>4<span>]</span></a></sup>, we assume the stock price follows the SDE\n",
    "\n",
    "<a name=\"eq:stockprocess\"></a>(1)\n",
    "$$dS_t = \\mu  \\,S_t\\, dt + \\sigma\\, S_t\\, dZ_t +(J-1)\\,S_t\\,dq_t$$\n",
    "\n",
    "with $\\sigma$ constant and where the Poisson process \n",
    "\n",
    "$$dq_t=\n",
    "\\left\\{ {\\begin{array}{*{10}l}\n",
    "   &0&\\textrm{ with probability }1- \\lambda(t)\\, dt  \\\\\n",
    "   &1&\\textrm{ with probability } \\lambda(t) \\, dt \\\\\n",
    "\\end{array}}\n",
    "\\right.$$ \n",
    "\n",
    "When $dq_t=1$, the process jumps from $S_t$ to $J\\,S_t$.\n",
    "\n",
    "* We assume that the jump arrival rate $\\lambda(t)$ is independent of the stock price process."
   ]
  },
  {
   "cell_type": "markdown",
   "metadata": {
    "slideshow": {
     "slide_type": "slide"
    }
   },
   "source": [
    "### Case of known jump size\n",
    "\n",
    "* As in the stochastic volatility case, we derive a valuation equation by considering the hedging of a contingent claim.\n",
    "\n",
    "    * We make the (unrealistic) assumption at this stage that the jump size $J$ is known in advance.\n",
    "\n",
    "\n",
    "* Whereas in the stochastic volatility case, the second risk factor to be hedged was the random volatility, in this case, the second factor is the jump.\n",
    "\n",
    "* So once again, we set up a portfolio $\\Pi$ containing the option being priced whose value we denote by $V(S,v,t)$, a quantity $-\\Delta$ of the stock and a quantity $-\\Delta_1$ of another asset whose value $V_1$ also depends on the jump."
   ]
  },
  {
   "cell_type": "markdown",
   "metadata": {
    "slideshow": {
     "slide_type": "subslide"
    }
   },
   "source": [
    "We have \n",
    "\n",
    "$$\\Pi  = V - \\Delta \\,S - \\Delta _1 \\,V_1$$ \n",
    "\n",
    "The change in this\n",
    "portfolio in the time interval $dt$ is given by\n",
    "\n",
    "\\begin{eqnarray*}\n",
    "d\\Pi &=& \\left\\{ {\\frac{{\\partial V}}{{\\partial t}} +\n",
    "\\frac{1}{2}\\sigma^2\\,S^2 \\frac{{\\partial ^2 V}}{{\\partial S^2 }}}\n",
    "\\right\\}dt  \\\\\n",
    "&&- \\Delta _1 \\left\\{ {\\frac{\\partial V_1 }{\\partial t}\n",
    "+ \\frac{1}{2}\\sigma^2\\,S^2}\\frac{{\\partial ^2\n",
    "V_1 }}{{\\partial S^2 }} \\right\\}dt \\nonumber\\\\\n",
    "&& + \\left\\{ {\\frac{{\\partial V}}{{\\partial S}} - \\Delta _1\n",
    "\\frac{{\\partial V_1 }}{{\\partial S}} - \\Delta } \\right\\}dS^c\n",
    "\\nonumber\\\\\n",
    "&& + \\{V(JS,t)-V(S,t)\\nonumber\\\\\n",
    "&& -\\Delta_1 (V_1(JS,t)-\n",
    "V_1(S,t)) -\\Delta (J-1) S\\}\\,dq\n",
    "\\end{eqnarray*}\n",
    "\n",
    "where $S^c_t$ is the continuous part of $S_t$ (adding back all the\n",
    "jumps that occurred up to time $t$)."
   ]
  },
  {
   "cell_type": "markdown",
   "metadata": {
    "slideshow": {
     "slide_type": "slide"
    }
   },
   "source": [
    "### Hedge underlying and the jump\n",
    "\n",
    "To make the portfolio instantaneously risk-free, we must choose\n",
    "\n",
    "$$\\frac{{\\partial V}}{{\\partial S}} - \\Delta _1 \\frac{{\\partial V_1\n",
    "}}{{\\partial S}} - \\Delta  = 0$$ \n",
    "\n",
    "to eliminate $dS$ terms, and\n",
    "\n",
    "$$V(JS,t)-V(S,t)-\\Delta_1 (V_1(JS,t)- V_1(S,t)) -\\Delta (J-1) S = 0$$ \n",
    "\n",
    "to eliminate $d q $ terms."
   ]
  },
  {
   "cell_type": "markdown",
   "metadata": {
    "slideshow": {
     "slide_type": "subslide"
    }
   },
   "source": [
    "This leaves us with\n",
    "\n",
    "\\begin{eqnarray*}\n",
    "d \\Pi &=& \\left\\{ {\\frac{{\\partial V}}{{\\partial t}} +\n",
    "\\frac{1}{2}\\sigma^2\\,S^2 \\frac{{\\partial ^2 V}}{{\\partial S^2 }}}\n",
    " \\right\\}dt  \\\\&&- \\Delta _1 \\left\\{ {\\frac{\\partial V_1 }{\\partial\n",
    "t} + \\frac{1}{2}\\sigma^2\\,S^2}\\frac{{\\partial ^2 V_1 }}{{\\partial\n",
    "S^2 }} \\right\\}dt \\nonumber\\\\ &=& r \\, \\Pi \\, d t \\nonumber\\\\ &=&\n",
    "r (V-\\Delta S -\\Delta_1 V_1) \\, d t\n",
    "\\end{eqnarray*}\n",
    "\n",
    "where we have used the fact that the return on a risk-free portfolio is the risk-free rate $r$."
   ]
  },
  {
   "cell_type": "markdown",
   "metadata": {
    "slideshow": {
     "slide_type": "subslide"
    }
   },
   "source": [
    "Collecting all $V$ terms on the left-hand side and all $V_1$ terms on\n",
    "the right-hand side, we get\n",
    "\n",
    "$$\\frac{{\\frac{{\\partial V}}{{\\partial t}}{\\rm  } +\n",
    "\\frac{1}{2}\\sigma^2\\,S^2 {\\rm  }\\frac{{\\partial ^2 V}}{{\\partial\n",
    "S^2 }} + r S \\frac{{\\partial V}}{{\\partial S}}-r V}}{\\delta V\n",
    "-(J-1)S{\\frac{{\\partial V}}{{\\partial S }}}} =\n",
    "\\frac{{\\frac{{\\partial V_1 }}{{\\partial t}}{\\rm  } +\n",
    "\\frac{1}{2}\\sigma^2\\,S^2{\\rm }\\frac{{\\partial ^2 V_1 }}{{\\partial\n",
    "S^2 }} +r S \\frac{{\\partial V_1}}{{\\partial S}}-r V_1}}{\\delta V_1\n",
    "-(J-1)S{\\frac{{\\partial V_1 }}{{\\partial S }}}}$$ \n",
    "\n",
    "where we have defined $\\delta V := V(JS,t)-V(S,t)$."
   ]
  },
  {
   "cell_type": "markdown",
   "metadata": {
    "slideshow": {
     "slide_type": "subslide"
    }
   },
   "source": [
    "Proceeding as in the stochastic volatility case, the left-hand side is a\n",
    "function of $V$ only and the right-hand side is a function of $V_1$\n",
    "only.\n",
    "\n",
    "We deduce that\n",
    "\n",
    "<a name=\"eq:jumpdiffval\"></a>(2)\n",
    "\\begin{eqnarray}\n",
    "{\\frac{{\\partial V}}{{\\partial t}}} &+& \\frac{1}{2}\\sigma^2\\,S^2\n",
    "\\frac{{\\partial ^2 V}}{{\\partial\n",
    "S^2 }}  +r S {\\frac{\\partial V}{\\partial S}-r V}\\nonumber\\\\\n",
    "&+&\\lambda(S,t)\\left\\{V(JS,t)-V(S,t) -(J-1)S{\\frac{{\\partial\n",
    "V}}{{\\partial S }}}\\right\\}=0\n",
    "\\end{eqnarray}\n",
    "\n",
    "for some function $\\lambda(S,t)$."
   ]
  },
  {
   "cell_type": "markdown",
   "metadata": {
    "slideshow": {
     "slide_type": "slide"
    }
   },
   "source": [
    "### Interpretation of $\\lambda(\\cdot)$\n",
    "\n",
    "To interpret $\\lambda(S,t)$, consider the value $P$ of an asset that pays \\$1 at time $T$ if there is no jump and zero otherwise. Our assumption that the jump process is independent of the stock price process implies that \n",
    "\n",
    "$$\\frac{\\partial P}{\\partial S}=0.$$ \n",
    "\n",
    "Also, we must have $P(J\\,S,t)=0$. Substituting into equation [(2)](#eq:jumpdiffval) gives \n",
    "\n",
    "$${\\frac{{\\partial P}}{{\\partial t}}} -r\\,P -\\lambda(S,t)\\,P =0.$$ \n",
    "\n",
    "Since (by assumption) $P$ is independent of $S$, so must $\\lambda$ be and the solution is $P(t)=\\exp\\left\\{-\\int_t^T (r+\\lambda(t')) \\,dt' \\right\\}$.  We immediately recognize $\\lambda(t)$ as the hazard rate of the Poisson process (the *pseudo-probability* per unit time that a jump occurs)."
   ]
  },
  {
   "cell_type": "markdown",
   "metadata": {
    "slideshow": {
     "slide_type": "slide"
    }
   },
   "source": [
    "### Uncertain jump size\n",
    "\n",
    "* To derive equation [(2)](#eq:jumpdiffval), we assumed that we knew in advance what the jump size would be. \n",
    "\n",
    "    * Of course this is neither realistic nor practical.\n",
    "\n",
    "\n",
    "* Jump-diffusion models typically specify a distribution of jump sizes. How would this change equation [(2)](#eq:jumpdiffval)?\n",
    "\n",
    "    * It is easy to see that adding another jump with a different size would require one more hedging asset in the replication argument.\n",
    "\n",
    "    * Allowing the jump size to be any real number with some distribution would require an infinite number of hedging assets."
   ]
  },
  {
   "cell_type": "markdown",
   "metadata": {
    "slideshow": {
     "slide_type": "subslide"
    }
   },
   "source": [
    "* We see that when then jump size is uncertain, the replication argument falls apart.\n",
    "\n",
    "\n",
    "* This is the major drawback of jump-diffusion models:\n",
    "\n",
    "    * There is no replicating portfolio and so there is no self-financing hedge even in the limit of continuous trading."
   ]
  },
  {
   "cell_type": "markdown",
   "metadata": {
    "slideshow": {
     "slide_type": "slide"
    }
   },
   "source": [
    "### Social value of derivative markets\n",
    "\n",
    "Looking on the bright side, if we believe in jumps, options are no longer redundant assets which may be replicated using stocks and bonds and by extension, option traders can be seen to have genuine (non-negative) social value.\n",
    "\n",
    "<p>\n",
    "\n",
    "<h3><img src=\"http://mfe.baruch.cuny.edu/wp-content/uploads/2015/10/trader.jpeg\" align = \"center\" width=500></h3>"
   ]
  },
  {
   "cell_type": "markdown",
   "metadata": {
    "slideshow": {
     "slide_type": "slide"
    }
   },
   "source": [
    "### Extension to uncertain jump sizes\n",
    "\n",
    "To extend equation [(2)](#eq:jumpdiffval) to the case of jumps of uncertain\n",
    "size, we assume that the risk-neutral process is still jump-diffusion\n",
    "with jumps independent of the stock price. Under the risk-neutral\n",
    "measure, the expected return of any asset is the risk-free rate. Taking\n",
    "expectations of equation [(1)](#eq:stockprocess)\n",
    "\n",
    "$$dS = \\mu  \\,S\\, dt + \\sigma S\\, dZ +(J-1)S\\,dq$$ \n",
    "\n",
    "we obtain that\n",
    "\n",
    "$$\\mathbb{E}[dS] = r\\,S\\,dt=\\mu\\,  S\\, dt\n",
    "+\\mathbb{E}[J-1]\\,S\\,\\lambda(t)\\,dt$$ \n",
    "\n",
    "It follows that the risk-neutral\n",
    "drift is given by $\\mu=r+\\mu_J$ with\n",
    "\n",
    "$$\\mu_J=-\\lambda(t)\\,\\mathbb{E}[J-1]$$\n",
    "\n",
    "* $\\mu_J$ is referred to as the *jump compensator*."
   ]
  },
  {
   "cell_type": "markdown",
   "metadata": {
    "slideshow": {
     "slide_type": "slide"
    }
   },
   "source": [
    "### Derivation of the valuation equation\n",
    "\n",
    "Just as in the derivation of the Black-Scholes equation, we must have $\\mathbb{E}[dV]=r\\,V\\,dt$. Applying Itô’s Lemma and taking expectations under the risk-neutral measure gives\n",
    "\n",
    "\\begin{eqnarray*}\n",
    "\\mathbb{E}[dV]&=&r\\,V\\,dt\\\\\n",
    "&=&\\left\\{ {\\frac{{\\partial V}}{{\\partial t}}+r\\,S\\,\n",
    "\\frac{{\\partial V}}{{\\partial S }}+ \\frac{1}{2}\\sigma^2\\,S^2\n",
    "\\frac{{\\partial ^2 V}}{{\\partial S^2 }}}\n",
    "\\right\\}dt\\\\\n",
    "&&+\\lambda(t)\\,\\mathbb{E}[V(JS,t)-V(S)]\\,dt+\\mu_J\\,S\\,\n",
    "\\frac{{\\partial V}}{{\\partial S }}\\,dt\n",
    "\\end{eqnarray*}"
   ]
  },
  {
   "cell_type": "markdown",
   "metadata": {
    "slideshow": {
     "slide_type": "subslide"
    }
   },
   "source": [
    "Rearranging, we obtain the following equation for valuing financial assets under jump-diffusion:\n",
    "\n",
    "<a name=\"eq:genjumpdiffval\"></a>(3)\n",
    "\\begin{eqnarray}\n",
    "{\\frac{{\\partial V}}{{\\partial t}}} &+& \\frac{1}{2}\\sigma^2\\,S^2\n",
    "\\frac{{\\partial ^2 V}}{{\\partial\n",
    "S^2 }}  +r S {\\frac{\\partial V}{\\partial S}-r V}\\nonumber\\\\\n",
    "&+&\\lambda(t)\\left\\{\\mathbb{E}\\left[V(JS,t)-V(S,t)\\right]\n",
    "-\\mathbb{E}\\left[J-1\\right]S{\\frac{{\\partial V}}{{\\partial S\n",
    "}}}\\right\\}=0\n",
    "\\end{eqnarray}"
   ]
  },
  {
   "cell_type": "markdown",
   "metadata": {
    "slideshow": {
     "slide_type": "slide"
    }
   },
   "source": [
    "### Risk neutral valuation\n",
    "\n",
    "* Once again for emphasis, the expectations in equation [(3)](#eq:genjumpdiffval) are under the risk neutral measure.\n",
    "\n",
    "\n",
    "* In order to value derivative assets, we concern ourselves only with the values that the market assigns to claims that pay in the event of a jump.\n",
    "\n",
    "    * Actual probabilities don’t enter at all."
   ]
  },
  {
   "cell_type": "markdown",
   "metadata": {
    "slideshow": {
     "slide_type": "slide"
    }
   },
   "source": [
    "### Characteristic Function Methods\n",
    "\n",
    "* Unlike the partial differential equations (PDEs) we are used to solving in derivatives valuation problems, equation [(3)](#eq:genjumpdiffval) is an example of an partial integro-differential equation (PIDE).\n",
    "\n",
    "\n",
    "* The integration over all possible jump-sizes introduces non-locality.\n",
    "\n",
    "    * Such equations can be solved using extensions of numerical PDE techniques.\n",
    "\n",
    "    * The most natural approach is to use Fourier transform (characteristic function) methods."
   ]
  },
  {
   "cell_type": "markdown",
   "metadata": {
    "slideshow": {
     "slide_type": "slide"
    }
   },
   "source": [
    "### Lévy Processes\n",
    "\n",
    "With constant hazard rate $\\lambda$, the logarithmic version of the jump-diffusion process [(1)](#eq:stockprocess) for the underlying asset is an example of a Lévy Process.\n",
    "\n",
    "\n",
    "<blockquote>\n",
    "<div style=\"background-color:#E8E8E8; color:#000000; font-style: normal; \">\n",
    "<br>\n",
    " A Lévy process is a continuous in probability, càdlàg stochastic\n",
    "process $x(t),\\, t>0$ with independent and stationary increments and\n",
    "$x(0) = 0$.\n",
    "\n",
    "<br>\n",
    "<br>\n",
    "\n",
    "</div>\n",
    "\n",
    "</blockquote>\n",
    "\n",
    "* It turns out that any Lévy process can be expressed as the sum of a linear drift term, a Brownian motion and a jump process.\n",
    "\n",
    "* This plus the independent increment property leads directly to the Lévy-Khintchine representation for the characteristic function."
   ]
  },
  {
   "cell_type": "markdown",
   "metadata": {
    "slideshow": {
     "slide_type": "slide"
    }
   },
   "source": [
    "### The Lévy-Khintchine representation\n",
    "\n",
    "If $x_t$ is a Lévy process, and if the Lévy density $\\mu(\\xi)$ is suitably well-behaved at the origin, its characteristic function $\\phi_T(u):=\\mathbb{E}\\left[e^{i u x_T}\\right]$ has the representation\n",
    "\n",
    "\n",
    "<blockquote><div style=\"background-color:#add8e6; color:#FFFFFF; font-style: normal;  \" ><h4>\n",
    "Characteristic function for a Lévy process</h4>\n",
    "</div>\n",
    "<div style=\"background-color:#E8E8E8; color:#000000; font-style: normal; \">\n",
    "<br>\n",
    "<a name=\"eq:lk\"></a>(4)\n",
    "$$\n",
    "\\phi_T(u)=\\exp\\left\\{i \\,u\\, \\omega\\, T -\\frac{1}{2}u^2\\, \\sigma^2 T +T\n",
    "\\int \\left[e^{i \\,u \\,\\xi}-1\\right]\\mu(\\xi)\\,d\\xi\\right\\}\n",
    "$$\n",
    "\n",
    "<br>\n",
    "<br>\n",
    "\n",
    "</div>\n",
    "\n",
    "</blockquote>"
   ]
  },
  {
   "cell_type": "markdown",
   "metadata": {
    "slideshow": {
     "slide_type": "subslide"
    }
   },
   "source": [
    "To get the drift parameter $\\omega$, we impose that the risk-neutral expectation of the stock price be the forward price. With our current assumption of zero interest rates and dividends, this translates to\n",
    "imposing that \n",
    "\n",
    "$$\\phi_T(-i)=\\mathbb{E}\\left[e^{x_T}\\right]=1$$ \n",
    "\n",
    "\n",
    "Here, $\\int \\mu(\\xi)\\,d\\xi = \\lambda$, the Poisson intensity or mean jump arrival rate also known as the *hazard* rate."
   ]
  },
  {
   "cell_type": "markdown",
   "metadata": {
    "slideshow": {
     "slide_type": "slide"
    }
   },
   "source": [
    "### Example: Black-Scholes\n",
    "\n",
    "The characteristic function for an exponential Brownian motion with volatility $\\sigma$ is given by\n",
    "\n",
    "$$\n",
    "\\phi_T(u)=\\mathbb{E}\\left[e^{iu x_T}\\right]=\n",
    "\\exp\\left\\{-{\\frac{1}{2}}{u\\,(u+i)\\,\\sigma^2T}\\right\\}\n",
    "$$\n",
    "\n",
    "We can get this result by performing the integration explicitly or directly from the Lévy-Khintchine representation."
   ]
  },
  {
   "cell_type": "markdown",
   "metadata": {
    "slideshow": {
     "slide_type": "slide"
    }
   },
   "source": [
    "### Example: Heston\n",
    "\n",
    "The Heston process is very path-dependent; increments are far from independent and it is not a Lévy process. However, we already computed its characteristic function in Lecture 3:\n",
    "\n",
    "$$\\phi_T(u)= \\exp\\left\\{C(u,T)\\,\\bar v+D(u,T)\\,v\\right\\}$$ \n",
    "\n",
    "with $C(u,T)$ and $D(u,T)$ as defined there."
   ]
  },
  {
   "cell_type": "markdown",
   "metadata": {
    "slideshow": {
     "slide_type": "slide"
    }
   },
   "source": [
    "### R-implementation of the Heston characteristic function"
   ]
  },
  {
   "cell_type": "code",
   "execution_count": 8,
   "metadata": {
    "collapsed": true,
    "slideshow": {
     "slide_type": "fragment"
    }
   },
   "outputs": [],
   "source": [
    "phiHeston <- function(params){\n",
    "    \n",
    "    lambda <- params$lambda\n",
    "    rho <- params$rho\n",
    "    eta <- params$eta\n",
    "    vbar <- params$vbar\n",
    "    v <- params$v\n",
    "    \n",
    "    function(u, t){\n",
    "\n",
    "    al <- -u*u/2 - 1i*u/2\n",
    "    bet <- lambda - rho*eta*1i*u\n",
    "    gam <- eta^2/2\n",
    "    d <- sqrt(bet*bet - 4*al*gam)\n",
    "    rp <- (bet + d)/(2*gam)\n",
    "    rm <- (bet - d)/(2*gam)\n",
    "    g <- rm / rp\n",
    "    D <- rm * (1 - exp(-d*t))/ (1 - g*exp(-d*t))\n",
    "    C <- lambda * (rm * t - 2/eta^2 * log( (1 - g*exp(-(d*t)))/(1 - g) ) )\n",
    "    return(exp(C*vbar + D*v))\n",
    "}\n",
    "}"
   ]
  },
  {
   "cell_type": "markdown",
   "metadata": {
    "slideshow": {
     "slide_type": "slide"
    }
   },
   "source": [
    "### Example: Merton’s Jump-Diffusion Model\n",
    "\n",
    "Finally, this is the case we are really interested in.\n",
    "\n",
    "The jump-size $J$ is assumed to be lognormally distributed with mean\n",
    "log-jump $\\alpha$ and standard deviation $\\delta$ so that the stock\n",
    "price follows the SDE\n",
    "\n",
    "$$\n",
    "dS = \\mu  S\\, dt + \\sigma S\\, dZ +(e^{\\alpha+\\delta\n",
    "\\epsilon}-1)S\\,dq\n",
    "$$\n",
    "\n",
    "with $\\epsilon \\sim N(0,1)$. Then\n",
    "\n",
    "$$\\mu(\\xi)=\\frac{\\lambda}{\\sqrt{2 \\pi \\delta^2}}\\exp\n",
    "\\left\\{-\\frac{(\\xi-\\alpha)^2}{2 \\delta^2 }\\right\\}.$$"
   ]
  },
  {
   "cell_type": "markdown",
   "metadata": {
    "slideshow": {
     "slide_type": "subslide"
    }
   },
   "source": [
    "Applying the Lévy-Khintchine representation [(4)](#eq:lk), we obtain\n",
    "\n",
    "<a name=\"eq:jumpdiffusioncharfn\"></a>(5)\n",
    "\\begin{eqnarray}\n",
    "\\phi_T(u)&=&\\exp\\left\\{i u \\omega T -\\frac{1}{2}u^2\\, \\sigma^2 T\\right.\\nonumber\\\\\n",
    "&&\\quad\\left.+T \\int \\left[e^{i u \\xi}-1\\right]\\frac{\\lambda}{\\sqrt{2 \\pi\n",
    "\\delta^2}}\\exp \\left\\{-\\frac{(\\xi-\\alpha)^2}{2 \\delta^2\n",
    "}\\right\\}\\,d\\xi\\right\\}\\nonumber\\\\\n",
    "&=&\\exp\\left\\{i u \\omega T -\\frac{1}{2}u^2\\, \\sigma^2 T +\\lambda T\n",
    "\\left( e^{i u \\alpha -u^2 \\delta^2/2}-1 \\right)\n",
    "\\right\\}.\n",
    "\\end{eqnarray}"
   ]
  },
  {
   "cell_type": "markdown",
   "metadata": {
    "slideshow": {
     "slide_type": "subslide"
    }
   },
   "source": [
    "To get $\\omega$, we impose $\\phi_T(-i)=1$ so that\n",
    "\n",
    "$$\\exp\\left\\{ \\omega T +\\frac{1}{2}\\, \\sigma^2 T +\\lambda T \\left(\n",
    "e^{ \\alpha + \\delta^2/2}-1 \\right) \\right\\}=1$$ \n",
    "\n",
    "which gives\n",
    "\n",
    "$$\\omega=-\\frac{1}{2}\\,\\sigma^2 -\\lambda \\left( e^{ \\alpha +\n",
    "\\delta^2/2}-1 \\right).$$ \n",
    "\n",
    "Unsurprisingly, we get the lognormal case back\n",
    "when we set $\\alpha=\\delta=0$."
   ]
  },
  {
   "cell_type": "markdown",
   "metadata": {
    "slideshow": {
     "slide_type": "slide"
    }
   },
   "source": [
    "### Computing option prices from the characteristic function\n",
    "\n",
    "It turns out (see [Carr and Madan]<sup id=\"cite_ref-CarrMadan\" class=\"reference\"><a href=\"#cite_note-CarrMadan\"><span>[</span>1<span>]</span></a></sup> and [Lewis]<sup id=\"cite_ref-Lewis\" class=\"reference\"><a href=\"#cite_note-Lewis\"><span>[</span>3<span>]</span></a></sup>) that it is quite\n",
    "straightforward to get option prices by inverting the characteristic\n",
    "function of a given stochastic process (if it is known in closed-form).\n",
    "\n",
    "\n",
    "The formula we will use is a special case of formula (2.10) of Lewis (as\n",
    "usual we assume zero interest rates and dividends):\n",
    "\n",
    "<blockquote><div style=\"background-color:#add8e6; color:#FFFFFF; font-style: normal;  \" ><h4>\n",
    "Formula (2.10) of Lewis</h4>\n",
    "</div>\n",
    "<div style=\"background-color:#E8E8E8; color:#000000; font-style: normal; \">\n",
    "<br>\n",
    "<a name=\"eq:lewis\"></a>(6)\n",
    "$$\n",
    "C(S,K,T)=S-\\sqrt{SK}\\frac{1}{\\pi}\\int_0^\\infty\\frac{du}{u^2+\\frac{1}{4}}\n",
    "\\,\\mathrm{Re}\\left[e^{-iuk}\\phi_T\\left(u-i/2\\right)\\right]\n",
    "$$\n",
    "<br>\n",
    "<br>\n",
    "\n",
    "</div>\n",
    "\n",
    "</blockquote>\n",
    "\n",
    "\n",
    "with $k=\\log\\left(\\frac{K}{S}\\right)$. We now proceed to prove this\n",
    "formula."
   ]
  },
  {
   "cell_type": "markdown",
   "metadata": {
    "slideshow": {
     "slide_type": "slide"
    }
   },
   "source": [
    "### Proof of [(6)](#eq:lewis)\n",
    "\n",
    "A covered call position has the payoff $\\min[S_T,K]$ where $S_T$ is the\n",
    "stock price at time $T$ and $K$ is the strike price of the call.\n",
    "\n",
    "\n",
    "Consider the Fourier transform of this covered call position $G(k,\\tau)$\n",
    "with respect to the log-strike $k := \\log{(K/F)}$ defined by\n",
    "\n",
    "\n",
    "$$\\hat G(u,\\tau)=\\int\\limits_{-\\infty}^{\\infty}e^{i \\,u\\, k}G(k,\\tau) \\,dk$$"
   ]
  },
  {
   "cell_type": "markdown",
   "metadata": {
    "slideshow": {
     "slide_type": "subslide"
    }
   },
   "source": [
    "Denoting time-to-expiration by $\\tau = T-t$, and setting interest rates\n",
    "and dividends to zero as usual, we have that\n",
    "\n",
    "\\begin{eqnarray*}\n",
    "\\frac{1}{S}\\hat G(u,\\tau)&=&\\int\\limits_{-\\infty}^{\\infty}\\,e^{i\\, u\\, k}\\,\n",
    "\\mathbb{E}\\left[\\min[e^{x_\\tau},e^k)^+] \\right]\\,dk\\\\\n",
    "&=&\\mathbb{E}\\left[\\int\\limits_{-\\infty}^{\\infty}\\,e^{i\\, u\\, k}\\,\n",
    "\\min[e^{x_\\tau},e^k)^+] \\,dk \\right]\\\\\n",
    "&=&\\mathbb{E}\\left[\\int\\limits_{-\\infty}^{x_\\tau}\\,e^{i\\, u\\, k}\\, e^k\n",
    "\\,dk+\\int\\limits_{x_\\tau}^{\\infty}\\,e^{i\\, u\\, k}\\,\n",
    "e^{x_\\tau} \\,dk \\right]\\\\\n",
    "&=&\\mathbb{E}\\left[\\frac{e^{(1+i\n",
    "u)x_\\tau}}{1+i u}-\\frac{e^{(1+i u)x_\\tau}}{i u} \\right]\\textrm{ only if } 0<\\mathrm{Im}[u]<1!\\\\\n",
    "&=&\\frac{1}{ u(u-i)}\\mathbb{E}\\left[{e^{(1+i u)x_\\tau}} \\right]\\\\\n",
    "&=&\\frac{1}{ u(u-i)}\\,\\phi_\\tau(u-i)\n",
    "\\end{eqnarray*}\n",
    "\n",
    "by definition of the characteristic function $\\phi_\\tau(u)$."
   ]
  },
  {
   "cell_type": "markdown",
   "metadata": {
    "slideshow": {
     "slide_type": "subslide"
    }
   },
   "source": [
    "* Note that the transform of the covered call value exists only if $0<\\mathrm{Im}[u]<1$.\n",
    "\n",
    "    * It is easy to see that this derivation would go through pretty much as above with other payoffs.\n",
    "\n",
    "    * The region where the transform exists depends on the payoff."
   ]
  },
  {
   "cell_type": "markdown",
   "metadata": {
    "slideshow": {
     "slide_type": "subslide"
    }
   },
   "source": [
    "To get the call price in terms of the characteristic function, we\n",
    "express it in terms of the covered call and invert the Fourier\n",
    "transform, integrating along the line $\\mathrm{Im}[u]=1/2$. Then\n",
    "\n",
    "\\begin{eqnarray*}\n",
    "C(S,K,T)&=&S- S \\frac{1}{2 \\pi}\\int_{-\\infty+i/2}\n",
    "^{\\infty+i/2}\\frac{du}{u(u-i)}\\,\\phi_T(u-i)\\,e^{-i k u}\\\\\n",
    "&=&S- S \\frac{1}{2 \\pi}\\int_{-\\infty}\n",
    "^{\\infty}\\frac{du}{(u+i/2)(u-i/2)}\\,\\phi_T(u-i/2)\\,e^{-i k (u+i/2)}\\\\\n",
    "&=&S-\\sqrt{SK}\\frac{1}{\\pi}\\int_0^\\infty\\frac{du}{u^2+\\frac{1}{4}}\n",
    "\\,\\mathrm{Re}\\left[e^{-iuk}\\phi_T\\left(u-i/2\\right)\\right]\n",
    "\\end{eqnarray*}\n",
    "\n",
    "with $k=\\log\\left(\\frac{K}{S}\\right)$."
   ]
  },
  {
   "cell_type": "markdown",
   "metadata": {
    "slideshow": {
     "slide_type": "slide"
    }
   },
   "source": [
    "### R implementation of the Lewis formula"
   ]
  },
  {
   "cell_type": "code",
   "execution_count": 9,
   "metadata": {
    "collapsed": false,
    "slideshow": {
     "slide_type": "fragment"
    }
   },
   "outputs": [
    {
     "data": {
      "text/plain": [
       "function (phi, k, t) \n",
       "{\n",
       "    integrand <- function(u) {\n",
       "        Re(exp(-(0+1i) * u * k) * phi(u - (0+1i)/2, t)/(u^2 + \n",
       "            1/4))\n",
       "    }\n",
       "    res <- 1 - exp(k/2)/pi * integrate(integrand, lower = 0, \n",
       "        upper = Inf, rel.tol = 1e-10, subdivisions = 1000)$value\n",
       "    return(res)\n",
       "}"
      ]
     },
     "execution_count": 9,
     "metadata": {},
     "output_type": "execute_result"
    }
   ],
   "source": [
    "callOption"
   ]
  },
  {
   "cell_type": "markdown",
   "metadata": {
    "slideshow": {
     "slide_type": "fragment"
    }
   },
   "source": [
    "Note that there is only one numerical integration here.  Before we needed two: one integration for $P_0$ and another for $P_1$."
   ]
  },
  {
   "cell_type": "markdown",
   "metadata": {
    "slideshow": {
     "slide_type": "slide"
    }
   },
   "source": [
    "### Implied volatility implementation"
   ]
  },
  {
   "cell_type": "code",
   "execution_count": 10,
   "metadata": {
    "collapsed": false,
    "slideshow": {
     "slide_type": "fragment"
    }
   },
   "outputs": [
    {
     "data": {
      "text/plain": [
       "function (phi, k, t) \n",
       "{\n",
       "    BSImpliedVolCall(1, exp(k), t, 0, callOption(phi, k, t))\n",
       "}"
      ]
     },
     "execution_count": 10,
     "metadata": {},
     "output_type": "execute_result"
    }
   ],
   "source": [
    "bsvol"
   ]
  },
  {
   "cell_type": "markdown",
   "metadata": {
    "slideshow": {
     "slide_type": "slide"
    }
   },
   "source": [
    "### Heston example"
   ]
  },
  {
   "cell_type": "code",
   "execution_count": 11,
   "metadata": {
    "collapsed": false,
    "slideshow": {
     "slide_type": "fragment"
    }
   },
   "outputs": [
    {
     "data": {
      "text/plain": [
       "[1] 0.09701406"
      ]
     },
     "execution_count": 11,
     "metadata": {},
     "output_type": "execute_result"
    },
    {
     "data": {
      "text/plain": [
       "[1] 0.2437805"
      ]
     },
     "execution_count": 11,
     "metadata": {},
     "output_type": "execute_result"
    }
   ],
   "source": [
    "subHeston <- list(lambda = 0.6067,rho = -0.7571,eta = 0.2928,vbar = 0.0707,v = .0654)\n",
    "\n",
    "callOption(phiHeston(subHeston), 0, 1)\n",
    "\n",
    "bsvol(phiHeston(subHeston),0,1)"
   ]
  },
  {
   "cell_type": "markdown",
   "metadata": {
    "slideshow": {
     "slide_type": "slide"
    }
   },
   "source": [
    "### Now draw a Heston 1-year smile"
   ]
  },
  {
   "cell_type": "code",
   "execution_count": 12,
   "metadata": {
    "collapsed": false,
    "slideshow": {
     "slide_type": "fragment"
    }
   },
   "outputs": [
    {
     "data": {
      "image/png": "[encoded data removed]"
     },
     "metadata": {},
     "output_type": "display_data"
    }
   ],
   "source": [
    "vol <- function(k){sapply(k,function(x){bsvol(phiHeston(subHeston),x,1)})}\n",
    "curve(vol(x),from=-1,to=1,col=\"red\")"
   ]
  },
  {
   "cell_type": "markdown",
   "metadata": {
    "slideshow": {
     "slide_type": "slide"
    }
   },
   "source": [
    "### Another way to compute implied volatility\n",
    "\n",
    "Equation [(6)](#eq:lewis) allows us to derive an elegant implicit expression\n",
    "for the Black-Scholes implied volatility of an option in any model for\n",
    "which the characteristic function is known.\n",
    "\n",
    "Substituting the characteristic function for the Black-Scholes process\n",
    "into [(6)](#eq:lewis) gives\n",
    "\n",
    "$$\n",
    "C_{BS}(S,K,T)=S-\\sqrt{SK}\\frac{1}{\\pi}\\int_0^\\infty\\frac{du}{u^2+\\frac{1}{4}}\n",
    "\\,\\mathrm{Re}\\left[e^{-iuk}e^{-\\frac{1}{2}\\left(u^2+\\frac{1}{4}\\right)\\sigma_{BS}^2\n",
    "T }\\right]\n",
    "$$\n",
    "\n",
    "Then, from the definition of implied volatility, we must have\n",
    "\n",
    "<a name=\"eq:ImpliedFromFourier\"></a>(7)\n",
    "\\begin{equation}\n",
    " \\int_0^\\infty\\frac{du}{u^2+\\frac{1}{4}}\n",
    "\\,\\mathrm{Re}\\left[e^{-iuk}\\left(\\phi_T\\left(u-i/2\\right)-e^{-\\frac{1}{2}\\left(u^2+\\frac{1}{4}\\right)\\sigma_{BS}^2\n",
    "T }\\right)\\right]=0\n",
    "\\end{equation}"
   ]
  },
  {
   "cell_type": "markdown",
   "metadata": {
    "slideshow": {
     "slide_type": "subslide"
    }
   },
   "source": [
    "\n",
    "* Equation [(7)](#eq:ImpliedFromFourier) gives us a simple but implicit relationship between the implied volatility surface and the characteristic function of the underlying stock process.\n",
    "\n",
    "    * We may efficiently compute the structure of at-the-money implied volatility and the at-the-money volatility skew in terms of the characteristic function (at least numerically) without having to explicitly compute option prices.\n",
    "\n",
    "\n",
    "* In practice, computing the option price and numerically inverting the Black-Scholes formula to get the implied volatility is faster."
   ]
  },
  {
   "cell_type": "markdown",
   "metadata": {
    "slideshow": {
     "slide_type": "slide"
    }
   },
   "source": [
    "### Computing the at-the-money volatility skew\n",
    "\n",
    "Assume $\\phi_T$ does not depend on spot $S$ and hence not on $k$. (This\n",
    "is the case in all examples we have in mind.) Then differentiating\n",
    "[(7)](#eq:ImpliedFromFourier) with respect to k and evaluating at $k=0$\n",
    "gives \n",
    "\n",
    "$$\n",
    "\\int_0^\\infty\\,du \\, \\left\\{ \\frac{u\\,\n",
    "\\mathrm{Im}\\left[\\phi_T(u-i/2) \\right]}{u^2+\\frac{1}{4}}\n",
    "+\\frac{1}{2}\\,\\left.\\frac{\\partial w_{BS} }{\\partial k\n",
    "}\\right|_{k=0}\\,e^{-\\frac{1}{2}\\left(u^2+\\frac{1}{4}\\right)w_{BS}(0,\n",
    "T)}\\right\\}=0\n",
    "$$\n",
    "\n",
    "Integrating the second term explicitly we get\n",
    "\n",
    "<a name=\"eq:skew\"></a>(8)\n",
    "\\begin{equation}\n",
    "\\left.\\frac{\\partial \\sigma_{BS} }{\\partial k }\\right|_{k=0}=-\n",
    "e^{\\frac{\\sigma_{BS}^2 T}{8}} \\sqrt{\\frac{2}{ \\pi}}\\frac{1}{\n",
    "\\sqrt{T}}\\,\\int_0^\\infty\\,du \\, \\frac{u\\,\n",
    "\\mathrm{Im}\\left[\\phi_T(u-i/2)\\right]}\n",
    "{u^2+\\frac{1}{4}}\n",
    "\\end{equation}"
   ]
  },
  {
   "cell_type": "markdown",
   "metadata": {
    "slideshow": {
     "slide_type": "slide"
    }
   },
   "source": [
    "### Example: Black-Scholes\n",
    "\n",
    "In the Black-Scholes case, \n",
    "\n",
    "$$\\mathrm{Im}\\left[\\phi_T(u-i/2)\\right]\n",
    "=\\mathrm{Im}\\left[e^{-\\frac{1}{2}\\left(u^2+1/4\\right)\\sigma^2 T\n",
    "}\\right]=0$$ \n",
    "\n",
    "Then \n",
    "\n",
    "$$\\left.\\frac{\\partial \\sigma_{BS}(k,T) }{\\partial k\n",
    "}\\right|_{k=0}=0 \\ \\ \\forall T>0.$$"
   ]
  },
  {
   "cell_type": "markdown",
   "metadata": {
    "slideshow": {
     "slide_type": "slide"
    }
   },
   "source": [
    "### Example: Merton’s Jump-Diffusion Model (JD)\n",
    "\n",
    "Write \n",
    "\n",
    "$$\\phi_T(u) =e^{-\\frac{1}{2}u(u+i)\\sigma^2 T}\\,e^{\\psi(u) T}$$\n",
    "\n",
    "with $\\psi(u)=-\\lambda i u \\left(e^{\\alpha\n",
    "+\\delta^2/2}-1\\right)+\\lambda\\left( e^{i u \\alpha -u^2\n",
    "\\delta^2/2}-1 \\right)$\n",
    "\n",
    "Then \n",
    "\n",
    "$$\\mathrm{Im}\\left[\\phi_T(u-i/2)\\right]\n",
    "=e^{-\\frac{1}{2}\\left(u^2+\\frac{1}{4}\\right)\\sigma^2\n",
    "T}\\,\\mathrm{Im}\\left[e^{\\psi(u-i/2) T} \\right]$$"
   ]
  },
  {
   "cell_type": "markdown",
   "metadata": {
    "slideshow": {
     "slide_type": "slide"
    }
   },
   "source": [
    "### How jumps impact the volatility skew\n",
    "\n",
    "By substituting the jump-diffusion characteristic function\n",
    "[(5)](#eq:jumpdiffusioncharfn) into our expressions\n",
    "[(7)](#eq:ImpliedFromFourier) and [(8)](#eq:skew) for the implied volatility and\n",
    "ATM volatility skew respectively, we can investigate the impact of jumps\n",
    "on the volatility surface for various numerical choices of the\n",
    "parameters."
   ]
  },
  {
   "cell_type": "markdown",
   "metadata": {
    "slideshow": {
     "slide_type": "subslide"
    }
   },
   "source": [
    "### Jump-diffusion parameter set for plots\n",
    "\n",
    "<div align=\"center\">Table 2: Parameters used to generate Figures 2 and 3.\n",
    "\n",
    "\n",
    "$~~~~~~~~~$|$~~~~~~~~\\sigma$|$~~~~~~~~\\lambda$|$~~~~~~~~\\alpha$|$~~~~~~~~\\delta$\n",
    ":------|------:|--------:|--------:|--------:\n",
    "Solid| 0.2| 0.5 | -0.15 | 0.05\n",
    "Dashed| 0.2 |1.0|-0.07|0.00\n",
    "Long-dashed| 0.2 |1.0|-0.07|0.05"
   ]
  },
  {
   "cell_type": "markdown",
   "metadata": {
    "slideshow": {
     "slide_type": "slide"
    }
   },
   "source": [
    "### Dependence of smile on jump parameters\n",
    "\n",
    "Consider Merton's jump diffusion model, which has a well-known characteristic function.\n"
   ]
  },
  {
   "cell_type": "code",
   "execution_count": 13,
   "metadata": {
    "collapsed": false,
    "slideshow": {
     "slide_type": "fragment"
    }
   },
   "outputs": [],
   "source": [
    "# Parameters from Table 2.\n",
    "paramsMJD1 <- list(sigma=0.2, lambdaJ = 0.5, alpha = -0.15, delta = .05)\n",
    "paramsMJD2 <- list(sigma=0.2, lambdaJ = 1.0, alpha = -0.07, delta = .00)\n",
    "paramsMJD3 <- list(sigma=0.2, lambdaJ = 1.0, alpha = -0.07, delta = .05)\n",
    "\n",
    "phiMJD <- function(params){\n",
    "    \n",
    "    sigma <- params$sigma\n",
    "    lambdaJ <- params$lambdaJ\n",
    "    alpha <- params$alpha\n",
    "    delta <- params$delta\n",
    "    \n",
    "    function(u, t){\n",
    "\n",
    "    psiBS <- -u/2*(u+1i)*sigma^2\n",
    "    psiJump <- lambdaJ*(-1i*u*(exp(alpha+delta^2/2)-1) + (exp(1i*u*alpha-u^2*delta^2/2)-1))\n",
    "        \n",
    "    return(exp((psiBS+psiJump)*t))\n",
    "}\n",
    "}"
   ]
  },
  {
   "cell_type": "markdown",
   "metadata": {
    "slideshow": {
     "slide_type": "subslide"
    }
   },
   "source": [
    "We now draw the 3-month smiles corresponding to these parameter sets:"
   ]
  },
  {
   "cell_type": "code",
   "execution_count": 14,
   "metadata": {
    "collapsed": false,
    "slideshow": {
     "slide_type": "fragment"
    }
   },
   "outputs": [
    {
     "data": {
      "image/png": "[encoded data removed]"
     },
     "metadata": {},
     "output_type": "display_data"
    }
   ],
   "source": [
    "vol <- function(k){sapply(k,function(x){bsvol(phiMJD(paramsMJD1),x,.25)})}\n",
    "curve(vol(x),from=-.5,to=.5,col=\"red\",xlab=\"Log strike\", ylab=\"Implied volatility\")\n",
    "vol <- function(k){sapply(k,function(x){bsvol(phiMJD(paramsMJD3),x,.25)})}\n",
    "curve(vol(x),from=-.5,to=.5,col=\"blue\",lty=2,add=T)\n",
    "vol <- function(k){sapply(k,function(x){bsvol(phiMJD(paramsMJD2),x,.25)})}\n",
    "curve(vol(x),from=-.5,to=.5,col=\"dark green\",lty=3, add=T)"
   ]
  },
  {
   "cell_type": "markdown",
   "metadata": {
    "slideshow": {
     "slide_type": "fragment"
    }
   },
   "source": [
    "Figure 2: The 3 month volatility smile for various choices of jump-diffusion\n",
    "parameters."
   ]
  },
  {
   "cell_type": "markdown",
   "metadata": {
    "slideshow": {
     "slide_type": "slide"
    }
   },
   "source": [
    "### Dependence of term structure of ATM skew on jump parameters\n",
    "\n",
    "To explore the dependence of the ATM skew term structure on the jump parameters, we first build a function to compute the skew from the characteristic function.\n"
   ]
  },
  {
   "cell_type": "code",
   "execution_count": 15,
   "metadata": {
    "collapsed": false,
    "slideshow": {
     "slide_type": "fragment"
    }
   },
   "outputs": [],
   "source": [
    "atmSkew <- function(phi, t){\n",
    "    atmVol <- BSImpliedVolCall(S0=1, K=1, T=t, r=0, C=callOption(phi, 0, t));\n",
    "    integrand <-  function(u){Im(u*phi(u - 1i/2, t)/(u^2 + 1/4))};\n",
    "    res <- -integrate(integrand,lower=0,upper=Inf,rel.tol=0.0000000001,subdivisions=1000)$value/sqrt(t)*sqrt(2/pi)*exp(atmVol^2*t/8);\n",
    "    return(res);\n",
    "}\n",
    "\n",
    "atmVarSkew <- function(phi, t){\n",
    "    volSkew <- atmSkew(phi,t);\n",
    "    atmVol <- bsvol(phi,0,t);\n",
    "    return(2*volSkew*atmVol);\n",
    "}\n",
    "\n",
    "# Vectorize the function\n",
    "atmVarSkewV <- function(phi,tVec){sapply(tVec,function(t){atmVarSkew(phi,t)})};"
   ]
  },
  {
   "cell_type": "markdown",
   "metadata": {
    "slideshow": {
     "slide_type": "subslide"
    }
   },
   "source": [
    "Now plot the ATM skew term structure for the various MJD parameter sets."
   ]
  },
  {
   "cell_type": "code",
   "execution_count": 16,
   "metadata": {
    "collapsed": false,
    "slideshow": {
     "slide_type": "fragment"
    }
   },
   "outputs": [
    {
     "data": {
      "image/png": "[encoded data removed]"
     },
     "metadata": {},
     "output_type": "display_data"
    }
   ],
   "source": [
    "curve(atmVarSkewV(phiMJD(paramsMJD1),x),from=0.000001,to=1,col=\"red\",xlab=\"Time to expiry\", ylab=\"ATM variance skew\",ylim=c(-.14,0))\n",
    "curve(atmVarSkewV(phiMJD(paramsMJD3),x),from=0.000001,to=1,col=\"blue\",lty=2,add=T)\n",
    "curve(atmVarSkewV(phiMJD(paramsMJD2),x),from=0.000001,to=1,col=\"dark green\",lty=2,add=T)"
   ]
  },
  {
   "cell_type": "markdown",
   "metadata": {
    "slideshow": {
     "slide_type": "fragment"
    }
   },
   "source": [
    "Figure 3: The term structure of ATM variance skew for various choices of jump-diffusion parameters."
   ]
  },
  {
   "cell_type": "markdown",
   "metadata": {
    "slideshow": {
     "slide_type": "slide"
    }
   },
   "source": [
    "### Skew behavior under jump-diffusion as $T\\rightarrow 0$\n",
    "\n",
    "Consider the value of an option under jump-diffusion with a short time\n",
    "$\\Delta T$ to expiration.\n",
    "\n",
    "* Because the time to expiration is very short, the probability of having more than one jump is negligible.\n",
    "\n",
    "* Because the jump is independent of the diffusion, the value of the option is just a superposition of the value conditional on the jump and the value conditional on no jump."
   ]
  },
  {
   "cell_type": "markdown",
   "metadata": {
    "slideshow": {
     "slide_type": "subslide"
    }
   },
   "source": [
    "Without loss of generality, suppose the stock price jumps down from $S$ to $J\\,S$ when the jump occurs.\n",
    "\n",
    "Then\n",
    "\n",
    "<a name=\"eq:jumpintuition\"></a>(9)\n",
    "\\begin{eqnarray}\n",
    "C_J(S,K,\\Delta T)&\\approx&(1-\\lambda \\Delta T)\\,C_{BS}(S\\, e^{\\mu_J\\,\\Delta\\, T} ,K,\\Delta T)\\nonumber\\\\\n",
    "&&\\quad\\quad\\quad+\\lambda \\Delta T \\,\n",
    "C_{BS}(J\\,S\\, e^{\\mu_J\\,\\Delta\\, T},K, \\Delta T)\\nonumber\\\\\n",
    "&=&C_{BS}(S e^{\\mu_J \\Delta T},K,\\Delta T) +O(\\Delta\n",
    "T)\n",
    "\\end{eqnarray} \n",
    "\n",
    "where $J$ is the size of the jump, $C_J(.)$ represents the value of the\n",
    "option under jump diffusion and\n",
    "$\\mu_J$ is the jump compensator."
   ]
  },
  {
   "cell_type": "markdown",
   "metadata": {
    "slideshow": {
     "slide_type": "slide"
    }
   },
   "source": [
    "### ATM skew approximation\n",
    "\n",
    "We want to compute the at-the-money variance skew\n",
    "\n",
    "$$\\left. \\frac{\\partial \\sigma_{BS}^2}{\\partial k}\\right|_{k=0}$$ \n",
    "\n",
    "To do this note that\n",
    "\n",
    "$$\\frac{\\partial C_J}{\\partial k}= \\frac{\\partial C_{BS}}{\\partial\n",
    "k}+\\frac{\\partial C_{BS}}{\\partial \\sigma_{BS}}\\frac{\\partial\n",
    "\\sigma_{BS}}{\\partial k}$$ \n",
    "\n",
    "so\n",
    "\n",
    "$$\\left. \\frac{\\partial \\sigma_{BS}}{\\partial\n",
    "k}\\right|_{k=0}=\\left.\\left[ \\frac{\\partial C_J}{\\partial\n",
    "k}-\\frac{\\partial C_{BS}}{\\partial k}\\right]\\,\\left(\\frac{\\partial\n",
    "C_{BS}}{\\sigma_{BS}}\\right)^{-1}\\right|_{k=0}$$"
   ]
  },
  {
   "cell_type": "markdown",
   "metadata": {
    "slideshow": {
     "slide_type": "subslide"
    }
   },
   "source": [
    "Now, for an at-the-money option,\n",
    "\n",
    "$$\\left.\\frac{\\partial\n",
    "C_{BS}}{\\sigma_{BS}}\\right|_{k=0}\\approx\\frac{S}{\\sqrt{2\n",
    "\\pi}}\\sqrt{\\Delta T}$$ \n",
    "\n",
    "and from equation [(9)](#eq:jumpintuition)\n",
    "\n",
    "\\begin{eqnarray*}\n",
    "\\frac{1}{S}\\left.\\left[ \\frac{\\partial C_J}{\\partial\n",
    "k}-\\frac{\\partial C_{BS}}{\\partial\n",
    "k}\\right]\\right|_{k=0}&\\approx&-N\\left(+\\frac{\\mu_J \\Delta T\n",
    "}{\\sigma\\sqrt{\\Delta T}}-\\frac{1}{2}\\sigma\\sqrt{\\Delta\n",
    "T}\\right)\\\\&&+N\\left(-\\frac{1}{2}\\sigma\\sqrt{\\Delta T}\n",
    "\\right)\\\\\n",
    "&\\approx&-\\frac{1}{\\sqrt{2 \\pi}}\\frac{\\mu_J}{\\sigma}\\sqrt{\\Delta\n",
    "T}\n",
    "\\end{eqnarray*}"
   ]
  },
  {
   "cell_type": "markdown",
   "metadata": {
    "slideshow": {
     "slide_type": "subslide"
    }
   },
   "source": [
    "Then, for small $\\Delta T$,\n",
    "\n",
    "<a name=\"eq:timezeroskew\"></a>(10)\n",
    "$$\\left. \\frac{\\partial \\sigma_{BS}^2}{\\partial\n",
    "k}\\right|_{k=0}\\approx -2\\,{\\mu_J}$$\n",
    "\n",
    "We see that in a jump-diffusion model, if the mean jump-size is\n",
    "sufficiently large relative to its standard deviation, the at-the-money\n",
    "variance skew is given directly by twice the jump compensator $\\mu_J$."
   ]
  },
  {
   "cell_type": "markdown",
   "metadata": {
    "slideshow": {
     "slide_type": "slide"
    }
   },
   "source": [
    "### The decay of skew due to jumps\n",
    "\n",
    "* We can see from Figure 3 that the volatility skew decays very rapidly in a jump-diffusion model beyond a certain time to expiration.\n",
    "\n",
    "\n",
    "* To estimate this characteristic time, we note that prices of European options depend only on the final distribution of stock prices and if the jump size is of the order of only one standard deviation $\\sigma \\sqrt{T}$, a single jump has little impact on the shape of this distribution."
   ]
  },
  {
   "cell_type": "markdown",
   "metadata": {
    "slideshow": {
     "slide_type": "subslide"
    }
   },
   "source": [
    "* We already saw that the $T \\rightarrow 0$ skew is given by the jump compensator $\\mu_J$. \n",
    "\n",
    "    * We can generate a given $\\mu_J$ either with frequent small jumps or with infrequent big jumps.\n",
    "\n",
    "    * If there are many small jumps, returns will be hard to distinguish from normal over a reasonable time interval.\n",
    "\n",
    "    * On the other hand, if there are infrequent big jumps and time to expiration is sufficiently short, below some characteristic time $T^*$ say, we should be able to detect the presence of the jump in the final return distribution."
   ]
  },
  {
   "cell_type": "markdown",
   "metadata": {
    "slideshow": {
     "slide_type": "slide"
    }
   },
   "source": [
    "### Estimate of $T^\\star$\n",
    "\n",
    "* We estimate $T^*$ by equating \n",
    "\n",
    "    $$-\\left(e^{\\alpha+\\delta^2/2}-1\\right)\\approx \\sigma \\sqrt{T^*}$$\n",
    "\n",
    "* Figure 4 shows the terminal return distributions for various expirations corresponding to the solid-line parameters from Table 2: \n",
    "    \n",
    "    $$\\sigma=0.2;\\,\\lambda= 0.5;\\,\\alpha=   -0.15;\\,\\delta=   0.05.$$\n",
    "\n",
    "<blockquote>\n",
    "<div style=\"background-color:#E8E8E8; color:#000000; font-style: normal; \">\n",
    "<br>\n",
    "The jump compensator (or expected move in the stock price due to jumps)\n",
    "drives the skew in the short-expiration limit while the decay of ATM\n",
    "skew is driven by the expected jump size.\n",
    "\n",
    "<br>\n",
    "<br>\n",
    "\n",
    "</div>\n",
    "\n",
    "</blockquote>\n"
   ]
  },
  {
   "cell_type": "markdown",
   "metadata": {
    "slideshow": {
     "slide_type": "slide"
    }
   },
   "source": [
    "### JD density versus normal density\n",
    "\n",
    "If we wait long enough, jumps become indinguishable *ex post* from moves due to diffusion.  To see this, we first build a function to compute the density from the characteristic function.\n"
   ]
  },
  {
   "cell_type": "code",
   "execution_count": 17,
   "metadata": {
    "collapsed": false,
    "slideshow": {
     "slide_type": "fragment"
    }
   },
   "outputs": [
    {
     "data": {
      "image/png": "[encoded data removed]"
     },
     "metadata": {},
     "output_type": "display_data"
    }
   ],
   "source": [
    "pPhi.raw <- function(phi,x,t){\n",
    "    \n",
    "    integrand <-  function(u){Re(exp(-1i*x*u)*phi(u - 1i/2, t))};\n",
    "    res <- integrate(integrand,lower=0,upper=Inf,rel.tol=0.0000000001,subdivisions=1000)$value/pi;\n",
    "    return(res);\n",
    "}\n",
    "\n",
    "# Vectorize the function\n",
    "pPhi <- function(phi,xVec,t){sapply(xVec,function(x){pPhi.raw(phi,x,t)})};\n",
    "curve(pPhi(phiMJD(paramsMJD1),x,1),from=-1,to=1,col=\"red\", lty=2);"
   ]
  },
  {
   "cell_type": "markdown",
   "metadata": {
    "slideshow": {
     "slide_type": "subslide"
    }
   },
   "source": [
    "First compute means and standard deviations of the various distributions so we can superimpose the normal density."
   ]
  },
  {
   "cell_type": "code",
   "execution_count": 18,
   "metadata": {
    "collapsed": false,
    "slideshow": {
     "slide_type": "fragment"
    }
   },
   "outputs": [],
   "source": [
    "# Compute means and standard deviations of distributions\n",
    "pMean <- function(phi,t){integrate(function(x){pPhi(phi,x,t)*x},lower=-5,upper=5)$value}\n",
    "\n",
    "m2 <- pMean(phiMJD(paramsMJD1),2/12)\n",
    "m4 <- pMean(phiMJD(paramsMJD1),4/12)\n",
    "m6 <- pMean(phiMJD(paramsMJD1),6/12)\n",
    "m8 <- pMean(phiMJD(paramsMJD1),8/12)\n",
    "\n",
    "pVar <- function(phi,t){integrate(function(x){pPhi(phi,x,t)*x^2},lower=-5,upper=5)$value}\n",
    "\n",
    "s2 <- sqrt(pVar(phiMJD(paramsMJD1),2/12)-m2^2);\n",
    "s4 <- sqrt(pVar(phiMJD(paramsMJD1),4/12)-m4^2);\n",
    "s6 <- sqrt(pVar(phiMJD(paramsMJD1),6/12)-m6^2);\n",
    "s8 <- sqrt(pVar(phiMJD(paramsMJD1),8/12)-m8^2);\n"
   ]
  },
  {
   "cell_type": "markdown",
   "metadata": {
    "slideshow": {
     "slide_type": "subslide"
    }
   },
   "source": [
    "We see that densities looks more Gaussian as time increases:"
   ]
  },
  {
   "cell_type": "code",
   "execution_count": 19,
   "metadata": {
    "collapsed": false,
    "slideshow": {
     "slide_type": "fragment"
    }
   },
   "outputs": [
    {
     "data": {
      "image/png": "[encoded data removed]"
     },
     "metadata": {},
     "output_type": "display_data"
    }
   ],
   "source": [
    "par(mfrow=c(2,2))\n",
    "curve(pPhi(phiMJD(paramsMJD1),x,2/12),from=-.5,to=.5,col=\"red\",xlab=NA,ylab=NA,yaxt=\"n\",xaxt=\"n\",frame.plot=F,main=\"2 months\");\n",
    "curve(dnorm(x,mean=m2,sd=s2),from=-.5,to=.5,col=\"blue\",add=T,lty=2);\n",
    "curve(pPhi(phiMJD(paramsMJD1),x,4/12),from=-.5,to=.5,col=\"red\",xlab=NA,ylab=NA,yaxt=\"n\",xaxt=\"n\",frame.plot=F,main=\"4 months\");\n",
    "curve(dnorm(x,mean=m4,sd=s4),from=-.6,to=.6,col=\"blue\",add=T,lty=2);\n",
    "curve(pPhi(phiMJD(paramsMJD1),x,6/12),from=-.5,to=.5,col=\"red\",xlab=NA,ylab=NA,yaxt=\"n\",xaxt=\"n\",frame.plot=F,main=\"6 months\");\n",
    "curve(dnorm(x,mean=m6,sd=s6),from=-.7,to=.7,col=\"blue\",add=T,lty=2);\n",
    "curve(pPhi(phiMJD(paramsMJD1),x,8/12),from=-.5,to=.5,col=\"red\",xlab=NA,ylab=NA,yaxt=\"n\",xaxt=\"n\",frame.plot=F,main=\"8 months\");\n",
    "curve(dnorm(x,mean=m8,sd=s8),from=-.8,to=.8,col=\"blue\",add=T,lty=2);\n",
    "par(mfrow=c(1,1))"
   ]
  },
  {
   "cell_type": "markdown",
   "metadata": {
    "slideshow": {
     "slide_type": "fragment"
    }
   },
   "source": [
    "Figure 4: As time to expiration increases, the return distribution looks more\n",
    "and more normal. The solid line is the jump-diffusion pdf and for\n",
    "comparison, the dashed line is the normal density with the same mean and\n",
    "standard deviation. With the parameters used to generate these plots,\n",
    "the characteristic time $T^*=0.67$. "
   ]
  },
  {
   "cell_type": "markdown",
   "metadata": {
    "slideshow": {
     "slide_type": "subslide"
    }
   },
   "source": [
    "### Time-zero skews and characteristic times\n",
    "\n",
    "To see how well these approximate computations explain Figures\n",
    "3 and 2, the characteristic time\n",
    "$T^*$ and the time zero skew $\\psi_0$, here is a table of parameters\n",
    "used:\n",
    "\n",
    "<div align=\"center\">Table 3: Interpreting Figures 2 and 3\n",
    "\n",
    "**Color**$~~~~~~~~~$|$~~~~~~~~\\sigma$|$~~~~~~~~\\lambda$|$~~~~~~~~\\alpha$|$~~~~~~~~\\delta$|**$~~~~~~~~T^*$**|$~~~~~~~~\\psi_0$\n",
    ":------|------:|--------:|--------:|--------:|--------:|--------:\n",
    "Solid | 0.2| 0.5 | -0.15 | 0.05 | 0.69 | -0.133\n",
    "Dashed| 0.2 |1.0| -0.07| 0.00| 0.34| -0.135\n",
    "Long-dashed| 0.2 |1.0|-0.07|0.05|0.33|-0.133"
   ]
  },
  {
   "cell_type": "markdown",
   "metadata": {
    "slideshow": {
     "slide_type": "slide"
    }
   },
   "source": [
    "### Default risk and the volatility smile\n",
    "\n",
    "* We have seen that models with jumps can generate the extreme short-dated smiles that are observed empirically.\n",
    "\n",
    "\n",
    "* In the single-stock case, there is a much more direct and obvious explanation for the volatility skew – default risk.\n",
    "\n",
    "\n",
    "* In particular, if the credit spread (and so default risk) is high, implied volatility skews can be extreme."
   ]
  },
  {
   "cell_type": "markdown",
   "metadata": {
    "slideshow": {
     "slide_type": "slide"
    }
   },
   "source": [
    "### Default modeling\n",
    "\n",
    "- There are two broad types of default-risk model used by practitioners: so-called *structural* models and so-called *reduced form* models.\n",
    "\n",
    "- In a structural model, default occurs when some measure of equity (assets minus liabilities) hits a barrier (usually zero). The probability of default is then computed as the barrier hitting probability.\n",
    "\n",
    "    - Hull and White and Creditgrades models are examples of structural models."
   ]
  },
  {
   "cell_type": "markdown",
   "metadata": {
    "slideshow": {
     "slide_type": "subslide"
    }
   },
   "source": [
    "- In a reduced form model, there is some probability per unit time (the hazard rate) that default will occur and then equity goes to zero and bonds go to recovery value. These models are in general easier to calibrate but may exhibit less realistic dynamics.\n",
    "\n",
    "     - The Duffie and Singleton model is an example of a reduced form model."
   ]
  },
  {
   "cell_type": "markdown",
   "metadata": {
    "slideshow": {
     "slide_type": "slide"
    }
   },
   "source": [
    "### Merton’s model of default\n",
    "\n",
    "* The Merton jump-to-ruin (MJR) model is the simplest possible example of a reduced form model.\n",
    "\n",
    "\n",
    "* It supposes that there some probability $\\lambda(t)$ per unit time of the stock price jumping to zero (the *hazard rate*) whereupon default occurs.\n",
    "\n",
    "\n",
    "* Jumps are independent of the stock price process."
   ]
  },
  {
   "cell_type": "markdown",
   "metadata": {},
   "source": [
    "### The valuation equation\n",
    "\n",
    "* In the MJR model, contingent claims must satisfy the jump-diffusion valuation equation [(3)](#eq:genjumpdiffval) with $\\mathbb{E}[J]=0$.\n",
    "\n",
    "\n",
    "* It is particularly straightforward to value a call option because for a call, $V(SJ,t)=0$."
   ]
  },
  {
   "cell_type": "markdown",
   "metadata": {
    "slideshow": {
     "slide_type": "slide"
    }
   },
   "source": [
    "* Substitution into equation [(3)](#eq:genjumpdiffval) gives:\n",
    "\n",
    "<a name=\"eq:mertonequation\"></a>(11)\n",
    "\\begin{equation}\n",
    "{\\frac{{\\partial V}}{{\\partial t}}} + \\frac{1}{2}\\sigma^2\\,S^2\n",
    "\\frac{{\\partial ^2 V}}{{\\partial S^2 }}  +r S {\\frac{\\partial\n",
    "V}{\\partial S}-r V} -\\lambda(t)\\left\\{V - S \\,\\frac{{\\partial\n",
    "V}}{{\\partial S }}\\right\\}=0.\n",
    "\\end{equation}\n",
    "\n",
    "* We immediately recognize equation [(11)](#eq:mertonequation) as the Black-Scholes equation with a shifted interest rate $r+\\lambda$.\n",
    "\n",
    "\n",
    "* Its solution is of course the Black-Scholes formula with this shifted rate."
   ]
  },
  {
   "cell_type": "markdown",
   "metadata": {
    "slideshow": {
     "slide_type": "slide"
    }
   },
   "source": [
    "### Interpretation\n",
    "\n",
    "* The meaning of this shifted rate is particularly clear if we assume no recovery (in the case of default) on the issuer’s bonds so that $B(JS,t)=0$.\n",
    "\n",
    "\n",
    "* Then, the risky bond price $B(t,T)$ must also satisfy equation [(11)](#eq:mertonequation) with the solution \n",
    "\n",
    "$$B(t,T)=e^{-\\int\\limits_t^T (r(s)+\\lambda(s)) ds}$$\n",
    "\n",
    "\n",
    "* We identify the shifted rate $r+\\lambda$ with the yield (risk-free rate plus credit spread) of a risky bond.\n",
    "\n",
    "    * The situation is a little more complicated (but not too much more) if we allow some recovery $R$ on default."
   ]
  },
  {
   "cell_type": "markdown",
   "metadata": {},
   "source": [
    "### Intuition\n",
    "\n",
    "* It may at first seem surprising that the Black-Scholes formula could be a solution of an equation that has a jump to zero (the so-called *jump to ruin*) in it. The economic reason is as follows:\n",
    "\n",
    "\n",
    "* Suppose we replicate a short call option position using stock and risky bonds (rather than risk-free bonds).\n",
    "\n",
    "    * So long as there is no jump to ruin, the derivation goes through as before and the portfolio is self-financing.\n",
    "\n",
    "    * If there is a jump-to-ruin, assuming no recovery on the bond, both the bond and the stock jump to zero – the portfolio is still self-financing!"
   ]
  },
  {
   "cell_type": "markdown",
   "metadata": {
    "slideshow": {
     "slide_type": "slide"
    }
   },
   "source": [
    "* Had we hedged with *risk-free* bonds, we would be long stock and short risk-free bonds and in the case of default, the call would end up worthless, the stock would be worthless and we would get full recovery on our risk-free bonds.\n",
    "\n",
    "    * On default, we would have a windfall gain!\n",
    "\n",
    "    * On the other hand, relative to hedging with risky bonds, we would forego the higher carry (or yield)."
   ]
  },
  {
   "cell_type": "markdown",
   "metadata": {},
   "source": [
    "### Implications for the volatility skew\n",
    "\n",
    "* All issuers of stock have some probability of defaulting.\n",
    "\n",
    "    * There is a very active credit derivative market (see [DefaultRisk.com](http://defaultrisk.com) for background) which prices default-risk."
   ]
  },
  {
   "cell_type": "markdown",
   "metadata": {
    "slideshow": {
     "slide_type": "slide"
    }
   },
   "source": [
    "* Black-Scholes implied volatilities are computed by inserting the risk-free rate into the Black-Scholes formula.\n",
    "\n",
    "\n",
    "* However, as we just showed, in Merton’s model, call option prices are correctly obtained by substituting the risky rate into the Black-Scholes formula.\n",
    "\n",
    "\n",
    "* This induces a skew which can become extremely steep for short-dated options on stocks whose issuers have high credit spreads."
   ]
  },
  {
   "cell_type": "markdown",
   "metadata": {
    "slideshow": {
     "slide_type": "slide"
    }
   },
   "source": [
    "### MJR smile examples\n",
    "\n",
    "We now examine the dependence of the smile on the credit spread in the Merton jump-to-ruin model."
   ]
  },
  {
   "cell_type": "code",
   "execution_count": 20,
   "metadata": {
    "collapsed": false,
    "slideshow": {
     "slide_type": "fragment"
    }
   },
   "outputs": [],
   "source": [
    "cMJR <- function(S0, K, T, r, lambda, sigma){BSFormula(S0, K, T, r+lambda, sigma)};#lambda is hazard rate\n",
    "\n",
    "# Fix spot=1, expiry = 3 months, vol = 20%, r=0 and play with credit spread\n",
    "impVolMJR <- function(k,lambda){BSImpliedVolCall(1, K= exp(k), T=0.25, r=0, \n",
    "   cMJR(S0=1, K=exp(k), T=0.25, r=0, lambda, sigma=0.2))}"
   ]
  },
  {
   "cell_type": "code",
   "execution_count": 21,
   "metadata": {
    "collapsed": false,
    "slideshow": {
     "slide_type": "subslide"
    }
   },
   "outputs": [
    {
     "data": {
      "image/png": "[encoded data removed]"
     },
     "metadata": {},
     "output_type": "display_data"
    }
   ],
   "source": [
    "curve(impVolMJR(x,lambda=.03),from=-0.3,to=0.3,col=\"red\",ylab=\"Implied vol.\",xlab=\"Log-strike k\",ylim=c(0.15,.45));\n",
    "curve(impVolMJR(x,lambda=.02),from=-0.3,to=0.3,col=\"blue\",add=T);\n",
    "curve(impVolMJR(x,lambda=.01),from=-0.3,to=0.3,col=\"green\",add=T);"
   ]
  },
  {
   "cell_type": "markdown",
   "metadata": {
    "slideshow": {
     "slide_type": "fragment"
    }
   },
   "source": [
    "Figure 5: 3 month implied volatilities from the Merton model assuming a stock\n",
    "volatility of 20% and credit spreads of 100bp (green), 200bp (blue) and\n",
    "300bp (red)"
   ]
  },
  {
   "cell_type": "markdown",
   "metadata": {
    "slideshow": {
     "slide_type": "slide"
    }
   },
   "source": [
    "### Capital structure arbitrage\n",
    "\n",
    "* The term *capital structure arbitrage* refers to trading of equity claims against fixed income and convertible claims.\n",
    "\n",
    "    * At its most sophisticated, practitioners build elaborate models of the capital structure of a company to determine the relative values of the various claims – in particular, stock, bonds and convertible bonds.\n",
    "\n",
    "    * At its simplest, the trader looks to see if equity puts are cheaper than credit derivatives and if so buys the one and sells the other."
   ]
  },
  {
   "cell_type": "markdown",
   "metadata": {
    "slideshow": {
     "slide_type": "slide"
    }
   },
   "source": [
    "### Put valuation\n",
    "\n",
    "* In the MJR model, the value of a call option is given by the Black-Scholes formula with the risk-free rate replaced by the risky-rate. What about put options?\n",
    "\n",
    "\n",
    "* The value of a put depends on who the writer is.\n",
    "\n",
    "    * If the writer is the issuer of the stock, assuming zero recovery, the put will be worth nothing if default occurs.\n",
    "\n",
    "    * If the writer is a default-free counterparty (for example an exchange), when default occurs, the put option should be worth the strike price."
   ]
  },
  {
   "cell_type": "markdown",
   "metadata": {
    "slideshow": {
     "slide_type": "subslide"
    }
   },
   "source": [
    "* We already know how to value a call written by a default-free counterparty\n",
    "\n",
    "    * An issuer cannot default on a call on his own stock so the value of a call written by the issuer of the stock equals the value of a call written by a default-free counterparty.\n",
    "\n",
    "\n",
    "* We obtain the value of a put using put-call parity\n",
    "\n",
    "    * using risk-free bonds in the case of the default-free counterparty and risky bonds in the case of the risky counterparty."
   ]
  },
  {
   "cell_type": "markdown",
   "metadata": {
    "slideshow": {
     "slide_type": "slide"
    }
   },
   "source": [
    "### Put-call parity\n",
    "\n",
    "Denoting the value of a risk-free put, call and bond by $P_0$,$C_0$ and\n",
    "$B_0$ and the value of risky claims on the issuer of the stock by $P_I$,\n",
    "$C_I$ and $B_I$ (I for issuer), we obtain\n",
    "\n",
    "<a name=\"eq:putCallParity\"></a>(12)\n",
    "\\begin{eqnarray}\n",
    "P_0&=&C_0 +K B_0 -S \\text{ (from put-call parity with risk-free bonds)}\\nonumber\\\\\n",
    " &=&C_I+K B_0 -S \\text{ (risk-free calls =  issuer-written calls)}\\nonumber\\\\\n",
    "&=&P_I+S-K B_I+K B_0 -S \\text{ (from put-call parity with risky bonds)}\\nonumber\\\\\n",
    "&=&P_I+K\\, (B_0-B_I)\n",
    "\\end{eqnarray}\n",
    "\n",
    "* The risk-free put is worth more than the risky put.\n",
    "\n",
    "* The excess in value is equal to the difference between risky and risk-free bond prices (times the strike price)."
   ]
  },
  {
   "cell_type": "markdown",
   "metadata": {
    "slideshow": {
     "slide_type": "slide"
    }
   },
   "source": [
    "### Relationship with default swaps\n",
    "\n",
    "* With maturity-independent rates and credit spreads for clarity and setting $t=0$, we obtain\n",
    "\n",
    "    $$B_0-B_I=e^{-r T} \\left(1-e^{-\\lambda T}\\right)$$ \n",
    "\n",
    "    which is just the discounted probability of default in the Merton model.\n",
    "\n",
    "\n",
    "* In words, the extra value is the strike price times the (pseudo-) probability that default occurs.\n",
    "\n",
    "\n",
    "* This payoff is also more or less exactly the payoff of a default put in the credit derivatives market."
   ]
  },
  {
   "cell_type": "markdown",
   "metadata": {
    "slideshow": {
     "slide_type": "slide"
    }
   },
   "source": [
    "### Arbitrage: A sad but true story\n",
    "\n",
    "* From Figure 5, we see that the downside implied volatility skew can be extreme for stocks whose issuers have high credit spreads.\n",
    "\n",
    "\n",
    "* Equity option market makers used to make do with heuristic rules to determine whether a skew looked reasonable or not; implied volatility skews of the magnitude shown in Figure 5 seemed just too extreme to be considered reasonable."
   ]
  },
  {
   "cell_type": "markdown",
   "metadata": {
    "slideshow": {
     "slide_type": "subslide"
    }
   },
   "source": [
    "* Taking advantage of the market maker’s lack of understanding, the trader buys an equity option on the exchange at a “very high” (but of course insufficiently high) implied volatility and sells a default put on the same stock in the credit derivatives market locking in a risk-free return.\n",
    "\n",
    "* Ultimately, skews got so steep that the hedge funds made money risk-free the other way round – through put spreads.\n",
    "\n",
    "\n",
    "* For example, buy one at-the-money put and sell two puts struck at half the current stock price.\n",
    "\n",
    "    * This strategy has only positive payoffs so if this can be traded flat or for a net credit, it is a pure arbitrage."
   ]
  },
  {
   "cell_type": "markdown",
   "metadata": {
    "slideshow": {
     "slide_type": "slide"
    }
   },
   "source": [
    "### The payoff of 1x2 put spread"
   ]
  },
  {
   "cell_type": "code",
   "execution_count": 22,
   "metadata": {
    "collapsed": false,
    "slideshow": {
     "slide_type": "fragment"
    }
   },
   "outputs": [
    {
     "data": {
      "image/png": "[encoded data removed]"
     },
     "metadata": {},
     "output_type": "display_data"
    }
   ],
   "source": [
    "put100 <- function(s){(s<=1)*(1-s)}\n",
    "put50 <- function(s){(s<=.5)*(1/2-s)}\n",
    "putSpread1x2 <- function(s){put100(s)-2*put50(s)}\n",
    "\n",
    "curve(putSpread1x2(x),from=0,to=1.2,col=\"red\",xlab=\"Final stock price\",ylab=\"Payoff\",n=500)"
   ]
  },
  {
   "cell_type": "markdown",
   "metadata": {
    "slideshow": {
     "slide_type": "fragment"
    }
   },
   "source": [
    "Figure 6: Payoff of the 1x2 put spread combination: buy one put with strike 1.0 and sell two puts with strike 0.5"
   ]
  },
  {
   "cell_type": "markdown",
   "metadata": {
    "slideshow": {
     "slide_type": "slide"
    }
   },
   "source": [
    "### Arbitrage bounds as a function of credit spread\n",
    "\n",
    "* As in Table 4,\n",
    "\n",
    "    * there is a lower bound to the price of a put from the the credit default swap market\n",
    "\n",
    "    * and an upper bound from spread arbitrage.\n",
    "\n",
    "<div align=\"center\">Table 4: Upper and lower arbitrage bounds for one year 0.5 strike options for\n",
    "various credit spreads (at-the-money volatility is 20%)\n",
    "<p>\n",
    "\n",
    "**Credit spread (bp)**$~~~~~$|$~~~~$**Lower bound**|$~~~~$**Upper bound**\n",
    ":------|------:|--------:\n",
    "250 | 0.0123 | 0.0398\n",
    "500 | 0.0244 | 0.0398\n",
    "750 | 0.0361 | 0.0398"
   ]
  },
  {
   "cell_type": "markdown",
   "metadata": {
    "slideshow": {
     "slide_type": "slide"
    }
   },
   "source": [
    "### Discussion\n",
    "\n",
    "* Assuming $20\\%$ at-the-money volatility, the upper bound is computed as half the value of an at-the-money option which is $0.0398$ in each case.\n",
    "\n",
    "\n",
    "* On the other hand, the lower bounds are just the present value of the strike price times the probability of default.\n",
    "\n",
    "\n",
    "* The lower bound increases steadily towards the upper bound as the credit spread increases *for fixed at-the-money implied volatility*.\n",
    "\n",
    "\n",
    "* It’s easy to see how a market maker could have exceeded the upper bound given the steady increase in skews."
   ]
  },
  {
   "cell_type": "markdown",
   "metadata": {
    "slideshow": {
     "slide_type": "slide"
    }
   },
   "source": [
    "### Summary\n",
    "\n",
    "- We motivated the introduction of jumps to explained observed short-dated smiles.\n",
    "    - For trsctability, such jumps are assumed independent; they add an extra factor in the characteristic function.\n",
    "\n",
    "\n",
    "- We saw how easy it is to generate the volatility surface for models with closed-form characteristic functions.\n",
    "\n",
    "\n",
    "- We got intuition for how jumps affect both the short-dated ATM skew in the limit $T \\to 0$ and the decay of skew.\n",
    "\n",
    "\n",
    "- We saw how single stock option downside skews are dominated by the credit spread of the underlying."
   ]
  },
  {
   "cell_type": "markdown",
   "metadata": {
    "slideshow": {
     "slide_type": "slide"
    }
   },
   "source": [
    "### References\n",
    "\n",
    "<br />\n",
    "\n",
    "<div class=\"reflist\" style=\"list-style-type: decimal;\">\n",
    "\n",
    "<ol>\n",
    "\n",
    "  <li id=\"cite_note-CarrMadan\"><span class=\"mw-cite-backlink\"><b><a href=\"#cite_ref-CarrMadan\">^</a></b></span> Peter Carr and Dilip Madan, Option valuation using the Fast Fourier Transform, <span>*Journal of Computational Finance*</span> <span>**2**</span>(4), 61–73 (1999).</li>\n",
    "\n",
    "  <li id=\"cite_note-Gatheral\"><span class=\"mw-cite-backlink\"><b><a href=\"#cite_ref-Gatheral\">^</a></b></span>   Jim Gatheral,  <span>*The Volatility Surface: A Practitioner's Guide*</span>, John Wiley and Sons, Hoboken, NJ (2006).</li>\n",
    "\n",
    "  <li id=\"cite_note-Lewis\"><span class=\"mw-cite-backlink\"><b><a href=\"#cite_ref-Lewis\">^</a></b></span>   Alan L. Lewis,  <span>*Option Valuation under Stochastic Volatility with Mathematica Code*</span>, Finance Press: Newport Beach, CA (2000).</li>\n",
    "  \n",
    "  <li id=\"cite_note-Wilmott\"><span class=\"mw-cite-backlink\"><b><a href=\"#cite_ref-Wilmott\">^</a></b></span>   Paul Wilmott, <span>*Paul Wilmott Introduces Quantitative Finance*</span>, John Wiley and Sons, Chichester (2007).</li>\n",
    "  \n",
    "</ol>"
   ]
  }
 ],
 "metadata": {
  "celltoolbar": "Slideshow",
  "kernelspec": {
   "display_name": "R",
   "language": "",
   "name": "ir"
  },
  "language_info": {
   "codemirror_mode": "r",
   "file_extension": ".r",
   "mimetype": "text/x-r-source",
   "name": "R",
   "pygments_lexer": "r",
   "version": "3.1.3"
  }
 },
 "nbformat": 4,
 "nbformat_minor": 0
}
