{
 "cells": [
  {
   "cell_type": "markdown",
   "metadata": {},
   "source": [
    "# MTH9875 Homework 3\n",
    "\n",
    "Assigned: September 17, 2015.\n",
    "Due: October 1, 2015 by 6pm.\n",
    "\n",
    "Late homework **will not be accepted**."
   ]
  },
  {
   "cell_type": "markdown",
   "metadata": {},
   "source": [
    "<font color = \"red\">Homework is to be done by each student individually.  To receive full credit, you must email a completed copy of this iPython notebook to Tai-Ho Wang and Jim Gatheral by the due date and time.  All R-code must run correctly and solutions must be written up neatly in Markdown/LaTeX format."
   ]
  },
  {
   "cell_type": "markdown",
   "metadata": {},
   "source": [
    "## Covariance of terminal stock price and terminal instantaneous variance in the Heston model\n",
    "$$\n",
    "\\newcommand{\\supp}{\\mathrm{supp}}\n",
    "\\newcommand{\\EE}{\\mathbb{E} }\n",
    "\\newcommand{\\E}{\\mathbb{E} }\n",
    "\\def\\Cov{{ \\mbox{Cov} }}\n",
    "\\def\\Var{{ \\mbox{Var} }}\n",
    "\\newcommand{\\1}{\\mathbf{1} }\n",
    "\\newcommand{\\PP}{\\mathbb{P} }\n",
    "%\\newcommand{\\Pr}{\\mathrm{Pr} }\n",
    "\\newcommand{\\QQ}{\\mathbb{Q} }\n",
    "\\newcommand{\\RR}{\\mathbb{R} }\n",
    "\\newcommand{\\DD}{\\mathbb{D} }\n",
    "\\newcommand{\\cO}{\\mathcal{O} }\n",
    "\\newcommand{\\cF}{\\mathcal{F} }\n",
    "\\newcommand{\\HH}{\\mathbb{H} }\n",
    "\\newcommand{\\spn}{\\mathrm{span} }\n",
    "\\newcommand{\\cov}{\\mathrm{cov} }\n",
    "\\newcommand{\\sgn}{\\mathrm{sgn} }\n",
    "\\newcommand{\\HS}{\\mathcal{L}_{\\mathrm{HS}} }\n",
    "%\\newcommand{\\HS}{\\mathrm{HS} }\n",
    "\\newcommand{\\trace}{\\mathrm{trace} }\n",
    "\\newcommand{\\LL}{\\mathcal{L} }\n",
    "%\\newcommand{\\LL}{\\mathrm{L} }\n",
    "\\newcommand{\\s}{\\mathcal{S} }\n",
    "\\newcommand{\\ee}{\\mathcal{E} }\n",
    "\\newcommand{\\ff}{\\mathcal{F} }\n",
    "\\newcommand{\\hh}{\\mathcal{H} }\n",
    "\\newcommand{\\bb}{\\mathcal{B} }\n",
    "\\newcommand{\\dd}{\\mathcal{D} }\n",
    "\\newcommand{\\g}{\\mathcal{G} }\n",
    "\\newcommand{\\half}{\\frac{1}{2} }\n",
    "\\newcommand{\\T}{\\mathcal{T} }\n",
    "\\newcommand{\\bi}{\\begin{itemize}}\n",
    "\\newcommand{\\ei}{\\end{itemize}}\n",
    "\\newcommand{\\beq}{\\begin{equation}}\n",
    "\\newcommand{\\eeq}{\\end{equation}}\n",
    "\\newcommand{\\beas}{\\begin{eqnarray*}}\n",
    "\\newcommand{\\eeas}{\\end{eqnarray*}}\n",
    "$$\n",
    "\n",
    "\n"
   ]
  },
  {
   "cell_type": "markdown",
   "metadata": {},
   "source": [
    "#### 1. (12 points) \n",
    "\n",
    "Consider the Heston model:\n",
    "\n",
    "$$\n",
    "\\beas\n",
    "\\frac{dS_t}{S_t}&=&\\sqrt{v_t}\\,dZ\\\\\n",
    "dv_t&=&-\\lambda\\,(v_t-\\bar v)\\,dt+\\eta\\,\\sqrt{v_t}\\,dW\n",
    "\\eeas\n",
    "$$\n",
    "\n",
    "with $\\EE[dZ\\,dW]=\\rho\\,dt$.  \n",
    "\n",
    "(a)\n",
    "\n",
    "Apply Itô's Lemma to derive the following expression for $\\EE[S_T\\,v_T]$:\n",
    "\n",
    "<a name=\"eq:covsv\"></a>(1)\n",
    "$$\n",
    "\\begin{equation}\n",
    "\\EE[S_T\\,v_T]=S_0\\,v_0\\,e^{-(\\lambda-\\rho\\,\\eta)\\,T}+\\lambda\\,S_0\\,\\bar v\\,\\int_0^T\\,e^{-(\\lambda-\\rho\\,\\eta)\\,(T-t)}\\,dt.\n",
    "\\end{equation}\n",
    "$$\n",
    "\n",
    "\n",
    "(b)\n",
    "\n",
    "Integrate equation [(1)](#eq:covsv) explicitly to obtain a closed-form expression for the covariance $\\Cov[S_T,v_T]$; for simplicity, assume the initial condition $v_0=\\bar v$ so that $\\hat v_t:=\\EE[v_t]=\\bar v$.\n",
    "\n",
    "(c)\n",
    "* What is the limit of your final expression as $\\tau \\to 0$?\n",
    "* What is the covariance when $\\rho=0$?\n",
    "* What happens as $\\lambda \\to \\infty$?\n",
    "\n",
    "(d)\n",
    "\n",
    "Explain these results to a non-specialist  *e.g.* your boss who is a trader."
   ]
  },
  {
   "cell_type": "markdown",
   "metadata": {},
   "source": [
    "### Download some code\n",
    "\n",
    "The following code sources `BlackScholes.R` and `Heston.R` which has the Black-Scholes formula, implied volatility, and Heston code."
   ]
  },
  {
   "cell_type": "code",
   "execution_count": 1,
   "metadata": {
    "collapsed": false
   },
   "outputs": [],
   "source": [
    "download.file(url=\"http://mfe.baruch.cuny.edu/wp-content/uploads/2015/09/9875-4.zip\", destfile=\"9875-4.zip\")\n",
    "unzip(zipfile=\"9875-4.zip\")\n",
    "source(\"BlackScholes.R\")\n",
    "source(\"Heston.R\")"
   ]
  },
  {
   "cell_type": "markdown",
   "metadata": {},
   "source": [
    "## Using the Heston code with BCC parameters\n",
    "\n",
    "#### 2. (10 points) \n",
    "\n",
    "Using the above Lecture 3 R-code, code a function in R to approximate the at-the-money (ATM) implied volatility skew\n",
    "\n",
    "$$\n",
    "\\left.\\frac{\\partial \\sigma_{BS}(k,T)}{\\partial k }\\right|_{k=0}\n",
    "$$\n",
    "\n",
    "(a)\n",
    "Plot the term structure of ATM skew from 0 to 10 years.  \n",
    "\n",
    "(b)\n",
    "Compare this curve with the rough empirical term structure of $1/\\sqrt{T}$.  \n",
    "\n",
    "(c)\n",
    "Draw a log-log version of your plot from (b).\n",
    "\n",
    "(d)\n",
    "Explain in words how the ATM skew in the Heston model differs from the empirically observed term structure of ATM volatility skew."
   ]
  },
  {
   "cell_type": "markdown",
   "metadata": {},
   "source": [
    "#### 3.  (6 points.) \n",
    "\n",
    "Code a function in R to return the Heston characteristic function $\\phi_T(u)$.  Verify that $\\phi_T(0)=1$ and $\\phi_T(-i)=1$.  Why must these latter two identities always hold (under the risk neutral measure)?"
   ]
  },
  {
   "cell_type": "markdown",
   "metadata": {},
   "source": [
    "#### 4. (8 points)  \n",
    "\n",
    "Using equation (17) from Lecture 3,  code a function in R to return the Heston probability density $p(x,\\tau)$.  \n",
    "\n",
    "(a)\n",
    "\n",
    "With $\\tau=1$, plot $p(x,\\tau)$ as a function of $x$.  \n",
    "\n",
    "(b)\n",
    "\n",
    "Superimpose 5 dashed curves with $p(x,1)$ redrawn with $\\eta=\\eta_{BCC}+\\{0.1,0.2,0.3,0.4,0.5\\}$.\n",
    "\n",
    "(c)\n",
    "\n",
    "Explain your intuition for these results to a non-specialist."
   ]
  },
  {
   "cell_type": "markdown",
   "metadata": {},
   "source": [
    "(c) Constant low volatility gives a density with a high central peak and thin tails.  Constant high volatility gives a density with a low central peak and fat tails.  As the volatility of volatility $\\eta$ increases, the tails of the probability density function thus get fatter, and the central peak gets thinner and taller."
   ]
  },
  {
   "cell_type": "markdown",
   "metadata": {
    "collapsed": false
   },
   "source": [
    "## Weak convergence of the Euler scheme"
   ]
  },
  {
   "cell_type": "markdown",
   "metadata": {},
   "source": [
    "#### 5. (8 points) \n",
    "\n",
    "(a)  Denote the Euler discretization of the Heston variance process by $\\hat v$ and let $\n",
    "\\Delta \\hat v_t = \\hat v_{t+\\Delta}- \\hat v_t\n",
    "$.  Derive formal expressions for $\\E[\\Delta \\hat v_t|v_t]$ and $\\Var[\\Delta \\hat v_t|v_t]$ (ignore the negative variance issue).  \n",
    " \n",
    "\n",
    "(b) Write down exact expressions for $\\E[v_{t+\\Delta}|v_t]$ and $\\Var[v_{t+\\Delta}|v_t]$ from Lecture 3.  Expand these in a power series to second order in $\\Delta$.\n",
    "\n",
    "(c) Using your results from (a) and (b), compute expressions for the discretization errors in expecation and variance to second order in $\\Delta$.  Verify that the Euler discretization scheme has an $\\cO(\\Delta^2)$ bias, consistent with order one weak convergence. \n",
    "\n",
    "Tip: Use Mathematica or Wolfram Alpha. "
   ]
  }
 ],
 "metadata": {
  "kernelspec": {
   "display_name": "R",
   "language": "R",
   "name": "ir"
  },
  "language_info": {
   "codemirror_mode": "r",
   "file_extension": ".r",
   "mimetype": "text/x-r-source",
   "name": "R",
   "pygments_lexer": "r",
   "version": "3.2.1"
  }
 },
 "nbformat": 4,
 "nbformat_minor": 0
}
