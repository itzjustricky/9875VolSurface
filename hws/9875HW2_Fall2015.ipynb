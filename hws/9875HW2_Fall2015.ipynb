{
 "cells": [
  {
   "cell_type": "markdown",
   "metadata": {},
   "source": [
    "# MTH9875 Homework 2\n",
    "\n",
    "Assigned: September 3, 2015.\n",
    "Due: September 17, 2015 by 6pm.\n",
    "\n",
    "Late homework **will not be accepted**."
   ]
  },
  {
   "cell_type": "markdown",
   "metadata": {},
   "source": [
    "<font color = \"red\">Homework is to be done by each student individually.  To receive full credit, you must email a completed copy of this iPython notebook to Tai-Ho Wang and Jim Gatheral by the due date and time.  All R-code must run correctly and solutions must be written up neatly in Markdown/LaTeX format.\n",
    "\n",
    "<font color=\"blue\">If you encounter problems with Markdown/LaTeX or iPython notebook, please contact your iPython notebook ambassador.\n"
   ]
  },
  {
   "cell_type": "markdown",
   "metadata": {},
   "source": [
    "### The  volatility smile in a simple regime-switching model\n",
    "\n",
    "####1. (10 points) \n",
    "\n",
    "Consider the simple regime-switching model from Lecture 2 where realized volatility over a one-year period can be either $10\\%$ or $30\\%$, each with probability $1/2$ (depending on an initial coin toss say).  The density of 1-year returns is given by"
   ]
  },
  {
   "cell_type": "code",
   "execution_count": 1,
   "metadata": {
    "collapsed": true
   },
   "outputs": [],
   "source": [
    "d3010 <- function(x){(dnorm(x,sd=.1)+dnorm(x,sd=.3))/2}"
   ]
  },
  {
   "cell_type": "markdown",
   "metadata": {},
   "source": [
    "The following snippet loads Black-Scholes functions from Lecture 1.  Please use these in your solution."
   ]
  },
  {
   "cell_type": "code",
   "execution_count": 2,
   "metadata": {
    "collapsed": false
   },
   "outputs": [],
   "source": [
    "download.file(url=\"http://mfe.baruch.cuny.edu/wp-content/uploads/2015/09/9875HW2.zip\", destfile=\"9875HW2.zip\")\n",
    "unzip(zipfile=\"9875HW2.zip\")\n",
    "\n",
    "source(\"BlackScholes.R\")"
   ]
  },
  {
   "cell_type": "markdown",
   "metadata": {},
   "source": [
    "(a) Code a function to return the price of a 1-year European option with log-strike $k$ in this model.  Your function should return the price as a fraction of the current stock price.\n",
    "\n",
    "(b) Code a function to return the implied volatility 1-year European option with log-strike $k$ in this model.\n",
    "\n",
    "(c) Draw the 1-year volatility smile in this model for log-strikes from -$2.0$ to $2.0$ with implied volatility on the y-axis and log-strike on the x-axis.  \n",
    "\n",
    "(d) What is implied volatility at-the-money?  Give intuition as to why.\n",
    "\n",
    "(e) In the extreme wings of the volatility smile, implied volatility tends to $30\\%$.  Why?"
   ]
  },
  {
   "cell_type": "markdown",
   "metadata": {},
   "source": [
    "### Tanaka's formula\n",
    "$$\\newcommand{\\supp}{\\mathrm{supp}}\n",
    "\\newcommand{\\EE}{\\mathbb{E} }\n",
    "\\def\\Cov{{ \\mbox{Cov} }}\n",
    "\\def\\Var{{ \\mbox{Var} }}\n",
    "\\newcommand{\\1}{\\mathbf{1} }\n",
    "\\newcommand{\\PP}{\\mathbb{P} }\n",
    "%\\newcommand{\\Pr}{\\mathrm{Pr} }\n",
    "\\newcommand{\\QQ}{\\mathbb{Q} }\n",
    "\\newcommand{\\RR}{\\mathbb{R} }\n",
    "\\newcommand{\\DD}{\\mathbb{D} }\n",
    "\\newcommand{\\HH}{\\mathbb{H} }\n",
    "\\newcommand{\\spn}{\\mathrm{span} }\n",
    "\\newcommand{\\cov}{\\mathrm{cov} }\n",
    "\\newcommand{\\sgn}{\\mathrm{sgn} }\n",
    "\\newcommand{\\HS}{\\mathcal{L}_{\\mathrm{HS}} }\n",
    "%\\newcommand{\\HS}{\\mathrm{HS} }\n",
    "\\newcommand{\\trace}{\\mathrm{trace} }\n",
    "\\newcommand{\\LL}{\\mathcal{L} }\n",
    "%\\newcommand{\\LL}{\\mathrm{L} }\n",
    "\\newcommand{\\s}{\\mathcal{S} }\n",
    "\\newcommand{\\ee}{\\mathcal{E} }\n",
    "\\newcommand{\\ff}{\\mathcal{F} }\n",
    "\\newcommand{\\hh}{\\mathcal{H} }\n",
    "\\newcommand{\\bb}{\\mathcal{B} }\n",
    "\\newcommand{\\dd}{\\mathcal{D} }\n",
    "\\newcommand{\\g}{\\mathcal{G} }\n",
    "\\newcommand{\\half}{\\frac{1}{2} }\n",
    "\\newcommand{\\T}{\\mathcal{T} }\n",
    "\\newcommand{\\bi}{\\begin{itemize}}\n",
    "\\newcommand{\\ei}{\\end{itemize}}\n",
    "\\newcommand{\\beq}{\\begin{equation}}\n",
    "\\newcommand{\\eeq}{\\end{equation}}\n",
    "\\newcommand{\\beas}{\\begin{eqnarray*}}\n",
    "\\newcommand{\\eeas}{\\end{eqnarray*}}\n",
    "$$\n",
    "#### 2. (8 points)\n",
    "\n",
    "By applying Itô's lemma as in the notes, prove Tanaka's formula in its usual form:\n",
    "\n",
    "$$\n",
    "\\left|B_t\\right|=\\int_0^t\\,\\sgn(B_s)\\,dB_s+L_t\n",
    "$$\n",
    "where $B_t$ is a standard Brownian motion, $\\sgn$ denotes the sign function\n",
    "\n",
    "$$\n",
    "\\sgn(x)=\\left\\{\n",
    "\\begin{array}{ll}\n",
    "  +1&x \\ge 0  \\\\\n",
    " -1 & x <0 \n",
    "\\end{array}\n",
    "\\right.\n",
    "$$\n",
    "\n",
    "and $L_t$ is its local time at $0$ (roughly the time spent by $B$ at $0$ before time $t$) given by the formal expression\n",
    "\n",
    "$$\n",
    "L_t=\\int_0^t\\,\\delta(B_s)\\,ds.\n",
    "$$\n",
    "\n",
    "Explain in words what this result means in terms of delta-hedging of a particular options position.\n"
   ]
  },
  {
   "cell_type": "markdown",
   "metadata": {},
   "source": [
    "## Local volatility and implied volatility\n",
    "\n",
    "####3. (6 points) \n",
    "\n",
    "Using the BBF formula, prove the well-known rule of thumb that the local volatility skew is roughly twice the implied volatility skew for short expirations.  Formally, for small $T$,\n",
    "\n",
    "$$\n",
    "\\left.\\partial_k \\sigma(k,T)\\right|_{k=0} \\approx 2\\, \\left.\\partial_k \\sigma_{BS}(k,T)\\right|_{k=0}.\n",
    "$$"
   ]
  },
  {
   "cell_type": "markdown",
   "metadata": {},
   "source": [
    "#### 4. (6 points) \n",
    "\n",
    "Consider formula (12) from Lecture 2:\n",
    "\n",
    "$$\n",
    "v_L(k,T) = \\frac{\\frac{\\partial w}{\\partial T}}\n",
    "{\\left(1 -\\frac 12\\frac{k}{w}\\,\\frac{\\partial w}{\\partial k}\\right)^2\n",
    " - \\frac14\\,\\left( \\frac{1}{4} + \\frac{1}{w} \\right)\\,\n",
    " \\left( \\frac{\\partial w}{\\partial k} \\right)^2  +\n",
    "\\frac{1}{2}\\,\\frac{\\partial^2 w}{\\partial k^2 }}.\n",
    "%\\label{eq:localfromimplied}\n",
    "$$\n",
    "\n",
    "Using this formula, show that the simple quadratic parameterization\n",
    "\n",
    "$$\n",
    "w(k,T)=\\alpha(T)+\\beta(T)\\,{k}+\\gamma(T)\\,{k^2}\n",
    "$$\n",
    "\n",
    "with $\\alpha(T)>0$ and $\\gamma(T)>0$ is arbitrageable.  Explain your result in words in terms of option strategies."
   ]
  }
 ],
 "metadata": {
  "kernelspec": {
   "display_name": "R",
   "language": "",
   "name": "ir"
  },
  "language_info": {
   "codemirror_mode": "r",
   "file_extension": ".r",
   "mimetype": "text/x-r-source",
   "name": "R",
   "pygments_lexer": "r",
   "version": "3.1.3"
  }
 },
 "nbformat": 4,
 "nbformat_minor": 0
}
