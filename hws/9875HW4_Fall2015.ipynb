{
 "cells": [
  {
   "cell_type": "markdown",
   "metadata": {},
   "source": [
    "# MTH9875 Homework 4\n",
    "\n",
    "Assigned: September 24, 2015.\n",
    "Due: October 8, 2015 by 6pm.\n",
    "\n",
    "Late homework **will not be accepted**."
   ]
  },
  {
   "cell_type": "markdown",
   "metadata": {},
   "source": [
    "<font color = \"red\">Homework is to be done by each student individually.  To receive full credit, you must email a completed copy of this iPython notebook to Tai-Ho Wang and Jim Gatheral by the due date and time.  All R-code must run correctly and solutions must be written up neatly in Markdown/LaTeX format."
   ]
  },
  {
   "cell_type": "markdown",
   "metadata": {},
   "source": [
    "### Load some useful R-code\n",
    "\n",
    "The following code sources *BlackScholes.R* which has the Black-Scholes formula and implied volatility computation and *Heston2.R* which has in particular the *impvolHeston* function."
   ]
  },
  {
   "cell_type": "code",
   "execution_count": 1,
   "metadata": {
    "collapsed": true
   },
   "outputs": [],
   "source": [
    "download.file(url=\"http://mfe.baruch.cuny.edu/wp-content/uploads/2015/09/9875-4.zip\", destfile=\"9875-4.zip\")\n",
    "unzip(zipfile=\"9875-4.zip\")"
   ]
  },
  {
   "cell_type": "code",
   "execution_count": 2,
   "metadata": {
    "collapsed": false
   },
   "outputs": [],
   "source": [
    "source(\"BlackScholes.R\")\n",
    "source(\"Heston.R\")"
   ]
  },
  {
   "cell_type": "markdown",
   "metadata": {},
   "source": [
    "##The exponential martingale"
   ]
  },
  {
   "cell_type": "markdown",
   "metadata": {},
   "source": [
    "###1. (6 points)\n",
    "$$\n",
    "\\newcommand{\\supp}{\\mathrm{supp}}\n",
    "\\newcommand{\\E}{\\mathbb{E} }\n",
    "\\def\\Cov{{ \\mbox{Cov} }}\n",
    "\\def\\Var{{ \\mbox{Var} }}\n",
    "\\newcommand{\\1}{\\mathbf{1} }\n",
    "\\newcommand{\\PP}{\\mathbb{P} }\n",
    "%\\newcommand{\\Pr}{\\mathrm{Pr} }\n",
    "\\newcommand{\\QQ}{\\mathbb{Q} }\n",
    "\\newcommand{\\RR}{\\mathbb{R} }\n",
    "\\newcommand{\\DD}{\\mathbb{D} }\n",
    "\\newcommand{\\HH}{\\mathbb{H} }\n",
    "\\newcommand{\\spn}{\\mathrm{span} }\n",
    "\\newcommand{\\cov}{\\mathrm{cov} }\n",
    "\\newcommand{\\sgn}{\\mathrm{sgn} }\n",
    "\\newcommand{\\HS}{\\mathcal{L}_{\\mathrm{HS}} }\n",
    "%\\newcommand{\\HS}{\\mathrm{HS} }\n",
    "\\newcommand{\\trace}{\\mathrm{trace} }\n",
    "\\newcommand{\\LL}{\\mathcal{L} }\n",
    "%\\newcommand{\\LL}{\\mathrm{L} }\n",
    "\\newcommand{\\s}{\\mathcal{S} }\n",
    "\\newcommand{\\ee}{\\mathcal{E} }\n",
    "\\newcommand{\\ff}{\\mathcal{F} }\n",
    "\\newcommand{\\hh}{\\mathcal{H} }\n",
    "\\newcommand{\\bb}{\\mathcal{B} }\n",
    "\\newcommand{\\dd}{\\mathcal{D} }\n",
    "\\newcommand{\\g}{\\mathcal{G} }\n",
    "\\newcommand{\\p}{\\partial}\n",
    "\\newcommand{\\half}{\\frac{1}{2} }\n",
    "\\newcommand{\\T}{\\mathcal{T} }\n",
    "\\newcommand{\\bi}{\\begin{itemize}}\n",
    "\\newcommand{\\ei}{\\end{itemize}}\n",
    "\\newcommand{\\beq}{\\begin{equation}}\n",
    "\\newcommand{\\eeq}{\\end{equation}}\n",
    "\\newcommand{\\beas}{\\begin{eqnarray*}}\n",
    "\\newcommand{\\eeas}{\\end{eqnarray*}}\n",
    "\\newcommand{\\cO}{\\mathcal{O}}\n",
    "\\newcommand{\\cF}{\\mathcal{F}}\n",
    "\\newcommand{\\cL}{\\mathcal{L}}\n",
    "$$\n",
    "\n",
    "If $B_t$ is Brownian motion, show that\n",
    "\n",
    "$$\n",
    "X_t=e^{\\int_0^t \\sigma_s\\,dB_s-\\frac12\\,\\int_0^t\\,\\sigma_s^2\\,ds}\n",
    "$$\n",
    "\n",
    "is a martingale. (Hint:  Apply Itô's Lemma to $e^Y$ where $Y=\\log X$.)\n",
    "\n",
    "Deduce that\n",
    "\n",
    "$$\n",
    "e^{\\frac12\\,\\alpha^2\\,t}=\\E\\left[e^{\\alpha\\,\\sqrt{t}\\,Z}\\right]\n",
    "%\\label{eq:expmartingale}\n",
    "$$\n",
    "\n",
    "where $Z \\sim N(0,1)$.  Is this last equation still true if $\\alpha$ is a matrix?  Why?"
   ]
  },
  {
   "cell_type": "markdown",
   "metadata": {},
   "source": [
    "##Strang splitting"
   ]
  },
  {
   "cell_type": "markdown",
   "metadata": {},
   "source": [
    "###2. (4 points) \n",
    "\n",
    "If $A$ and $B$ are (in general non-commutative) matrices, show that\n",
    "\n",
    "$$\n",
    "e^{(A+B)\\,\\Delta}=e^{A\\,\\Delta/2}\\,e^{B\\,\\Delta}\\,e^{A\\,\\Delta/2} + \\cO(\\Delta^3).\n",
    "$$"
   ]
  },
  {
   "cell_type": "markdown",
   "metadata": {},
   "source": [
    "##Ninomiya-Victoir"
   ]
  },
  {
   "cell_type": "markdown",
   "metadata": {},
   "source": [
    "###3. (16 points)\n",
    "\n",
    "Consider the following variance  process:\n",
    "\n",
    "<a name=\"eq:varProcess\"></a>(1)\n",
    "$$\n",
    "dv_t = -\\lambda\\,(v_t-\\bar v)\\,dt+\\xi\\,v_t\\,dZ_t.\n",
    "%\\label{eq:vProcess}\n",
    "$$\n",
    "\n",
    "(a)\n",
    "Let $f(v,t)=\\E[g(v_T)|\\cF_t]$ be the fair value at time $t$ of some claim on $v_T$.  Apply Itô's Lemma to $f$ to find the infinitesimal generator $ \\cL$ of the diffusion such that \n",
    "\n",
    "$$\n",
    "\\frac{df}{dt}+ \\cL f=0.\n",
    "$$\n",
    "\n",
    "(b)\n",
    "Find first order differential operators $ V_0$ and $V_1$ such that\n",
    "\n",
    "$$\n",
    " \\cL= V_0+\\frac12\\,V_1^2.\n",
    "$$\n",
    "\n",
    "(c)  Solve the ODEs \n",
    "\n",
    "$$\n",
    " \\frac{d }{dt} v(t) = V_0 v(t) \\text{ and }  \\frac{d }{dt} v(t) = V_1 v(t)\n",
    "$$\n",
    "\n",
    "with boundary condition $v(0)=v_0$.\n",
    "\n",
    "(d)\n",
    "Deduce the form of the Ninomiya-Victoir Monte Carlo time step for the variance process [(1)](#eq:varProcess) over some small time interval from $t$ to $t+\\Delta$."
   ]
  },
  {
   "cell_type": "markdown",
   "metadata": {},
   "source": [
    "##Amend the Monte Carlo codes and generate samples"
   ]
  },
  {
   "cell_type": "markdown",
   "metadata": {},
   "source": [
    "###4. (12 points) \n",
    "\n",
    "(a)\n",
    "\n",
    "Amend both the Monte Carlo code (*HestonMC2*) and the Quasi-Monte Carlo code (*HestonQMC*) from Lecture 4 to return vectors of $x=\\log S_T/S_0$ and instantaneous variance $v$.\n",
    "\n",
    "(b)\n",
    "\n",
    "Run these amended routines with BCC parameters,  $N=100,000$, $m=8$ (16 steps), `evolve=evolveAlfonsiF` .  Save the results so you can reuse these samples of $x$ and $v$.\n",
    "\n",
    "(c)\n",
    "\n",
    "Write R-code to reproduce the convergence plot shown in Figure 11 of the lecture slides (with $T=1$ and strike $K=1.2$).  You should reproduce this figure with informative axis labels and helpful formatting.\n"
   ]
  },
  {
   "cell_type": "markdown",
   "metadata": {},
   "source": [
    "###5.  (10 points) \n",
    "\n",
    "For the following, use the samples of $x$ and $v$ generated using MC and QMC with 100,000 paths from Problem 4.\n",
    "\n",
    "(a)\n",
    "\n",
    "Plot the Heston implied volatility smile from the quasi-closed-form Heston formula.  Superimpose MC and QMC smiles to reproduce something like Figure 11 in Lecture 4.\n",
    "\n",
    "(b)\n",
    "\n",
    "Using both MC and QMC samples from Problem 4, numerically estimate the local volatility function\n",
    "\n",
    "$$\n",
    "v_\\ell(x,1)=\\E[v_1|x_1=x]\n",
    "$$\n",
    "\n",
    "and plot $v_\\ell(x,1)$ as a function of $x$.  (Tip: I recommend binning the data rather than running *e.g.* kernel regression.)\n",
    "\n",
    "(c)\n",
    "\n",
    "Superimpose the Heston implied variance smile (use part (a)) on your local variance smile from part (c) to reproduce something like Figure 12 (but with only 100,000 paths).  Comment on the qualitative features of the implied volatility and local volatility smiles."
   ]
  }
 ],
 "metadata": {
  "kernelspec": {
   "display_name": "R",
   "language": "",
   "name": "ir"
  },
  "language_info": {
   "codemirror_mode": "r",
   "file_extension": ".r",
   "mimetype": "text/x-r-source",
   "name": "R",
   "pygments_lexer": "r",
   "version": "3.1.3"
  }
 },
 "nbformat": 4,
 "nbformat_minor": 0
}
