{
 "cells": [
  {
   "cell_type": "markdown",
   "metadata": {},
   "source": [
    "# MTH9875 Homework 5\n",
    "\n",
    "Assigned: October 1, 2015.\n",
    "Due: October 15, 2015 by 6pm.\n",
    "\n",
    "Late homework **will not be accepted**."
   ]
  },
  {
   "cell_type": "markdown",
   "metadata": {},
   "source": [
    "<font color = \"red\">Homework is to be done by each student individually.  To receive full credit, you must email a completed copy of this iPython notebook to Tai-Ho Wang and Jim Gatheral by the due date and time.  All R-code must run correctly and solutions must be written up neatly in Markdown/LaTeX format."
   ]
  },
  {
   "cell_type": "markdown",
   "metadata": {},
   "source": [
    "## An empirical SPX volatility surface\n",
    "\n",
    "Friday, September 16, 2011 was triple witching day for SPX options and futures.  Thus, the volatility surface as of the close on the 15th, that includes September options expiring the following morning, should have a shape just as interesting as the one shown in Figure 3.2 of The Volatility Surface.  Indeed more interesting, because the term structure of volatility was downwards sloping."
   ]
  },
  {
   "cell_type": "markdown",
   "metadata": {},
   "source": [
    "###1. (3 points)\n",
    "$$\n",
    "\\newcommand{\\supp}{\\mathrm{supp}}\n",
    "\\newcommand{\\E}{\\mathbb{E} }\n",
    "\\def\\Cov{{ \\mbox{Cov} }}\n",
    "\\def\\Var{{ \\mbox{Var} }}\n",
    "\\newcommand{\\1}{\\mathbf{1} }\n",
    "\\newcommand{\\PP}{\\mathbb{P} }\n",
    "%\\newcommand{\\Pr}{\\mathrm{Pr} }\n",
    "\\newcommand{\\QQ}{\\mathbb{Q} }\n",
    "\\newcommand{\\RR}{\\mathbb{R} }\n",
    "\\newcommand{\\DD}{\\mathbb{D} }\n",
    "\\newcommand{\\HH}{\\mathbb{H} }\n",
    "\\newcommand{\\spn}{\\mathrm{span} }\n",
    "\\newcommand{\\cov}{\\mathrm{cov} }\n",
    "\\newcommand{\\sgn}{\\mathrm{sgn} }\n",
    "\\newcommand{\\HS}{\\mathcal{L}_{\\mathrm{HS}} }\n",
    "%\\newcommand{\\HS}{\\mathrm{HS} }\n",
    "\\newcommand{\\trace}{\\mathrm{trace} }\n",
    "\\newcommand{\\LL}{\\mathcal{L} }\n",
    "%\\newcommand{\\LL}{\\mathrm{L} }\n",
    "\\newcommand{\\s}{\\mathcal{S} }\n",
    "\\newcommand{\\ee}{\\mathcal{E} }\n",
    "\\newcommand{\\ff}{\\mathcal{F} }\n",
    "\\newcommand{\\hh}{\\mathcal{H} }\n",
    "\\newcommand{\\bb}{\\mathcal{B} }\n",
    "\\newcommand{\\dd}{\\mathcal{D} }\n",
    "\\newcommand{\\g}{\\mathcal{G} }\n",
    "\\newcommand{\\half}{\\frac{1}{2} }\n",
    "\\newcommand{\\T}{\\mathcal{T} }\n",
    "\\newcommand{\\bi}{\\begin{itemize}}\n",
    "\\newcommand{\\ei}{\\end{itemize}}\n",
    "\\newcommand{\\beq}{\\begin{equation}}\n",
    "\\newcommand{\\eeq}{\\end{equation}}\n",
    "\\newcommand{\\beas}{\\begin{eqnarray*}}\n",
    "\\newcommand{\\eeas}{\\end{eqnarray*}}\n",
    "$$\n",
    "Derive the put-call parity formula for European options in the form\n",
    "\n",
    "$$\n",
    "C-P=PV\\,(F-K)\n",
    "$$ \n",
    "\n",
    "where $C$ is the call price, $P$ is the put price, $F$ is the forward price, $K$ is the strike and $PV$ is the discount factor."
   ]
  },
  {
   "cell_type": "markdown",
   "metadata": {},
   "source": [
    "### Download some code\n",
    "\n",
    "The following code sources *BlackScholes.R* which has the Black-Scholes formula and implied volatility computation and *Heston2.R* which has in particular the *impvolHeston* function."
   ]
  },
  {
   "cell_type": "code",
   "execution_count": 1,
   "metadata": {
    "collapsed": false
   },
   "outputs": [],
   "source": [
    "download.file(url=\"http://mfe.baruch.cuny.edu/wp-content/uploads/2014/09/BlackScholes.R.zip\", destfile=\"BlackScholes.R.zip\")\n",
    "unzip(zipfile=\"BlackScholes.R.zip\")\n",
    "source(\"BlackScholes.R\")\n",
    "source(\"Heston2.R\")"
   ]
  },
  {
   "cell_type": "markdown",
   "metadata": {},
   "source": [
    "###2.  (8 points) \n",
    "\n",
    "Given $n$ option strikes from a given expiration $T$, write R-code to take the $2\\,n$ option prices and return $F$ and $PV$ for that expiration (obviously you need at least two strikes).  Test your code on the following prices for European options expiring in 36 days:\n",
    "\n",
    "| Strike | Call price | Put price |\n",
    "|--------|---------:|----------:|\n",
    "| 1190 | 52.23 | 37.51 | \n",
    "| 1195 | 49.11 | 39.34 | \n",
    "| 1200 | 46.59 | 41.52 | \n",
    "| 1205 | 43.13 | 42.55 | \n",
    "| 1210 | 40.21 | 45.40 | \n",
    "| 1215 | 37.45 | 47.57 | \n",
    "  \n",
    "\n",
    "\n",
    "\n",
    "With the resulting values of $F$ and $PV$, and using the implied volatility calculator in *BlackScholes.R*, compute implied volatilities for the above options.  Display these by adding a column to the above table."
   ]
  },
  {
   "cell_type": "markdown",
   "metadata": {},
   "source": [
    "### Download code for problem 3.\n",
    "\n",
    "The following code loads the file *spxData110915.rData* into your working directory and sources *plotIvols.R* which has implied volatility smile plotting functionality."
   ]
  },
  {
   "cell_type": "code",
   "execution_count": 3,
   "metadata": {
    "collapsed": false
   },
   "outputs": [],
   "source": [
    "download.file(url=\"http://mfe.baruch.cuny.edu/wp-content/uploads/2014/09/MTH9875_4_rFiles.zip\", destfile=\"rFiles4.zip\")\n",
    "unzip(zipfile=\"rFiles4.zip\")\n",
    "\n",
    "download.file(url=\"http://mfe.baruch.cuny.edu/wp-content/uploads/2014/09/spxOptionMetrics.rData_.zip\", destfile=\"spxOptionMetrics.rData.zip\")\n",
    "unzip(zipfile=\"spxOptionMetrics.rData.zip\")\n",
    "\n",
    "source(\"plotIvols.R\")"
   ]
  },
  {
   "cell_type": "markdown",
   "metadata": {},
   "source": [
    "*spxOptionMetrics.rData* contains in particular the data frame `spxData110915` which has all SPX options closing prices as of September 15, 2011.  Data is from OptionMetrics (http://www.optionmetrics.com/index.html) via WRDS (http://wrds-web.wharton.upenn.edu/wrds/).\n",
    "\n",
    "Note that SPX strike prices are out by a factor of 1000."
   ]
  },
  {
   "cell_type": "code",
   "execution_count": 4,
   "metadata": {
    "collapsed": false
   },
   "outputs": [
    {
     "data": {
      "text/plain": [
       "         secid     date             symbol symbol_flag   exdate last_date\n",
       "2559920 108105 20110915  SPX 110917C100000           1 20110917  20110815\n",
       "2559921 108105 20110915 SPX 110917C1000000           1 20110917  20110915\n",
       "2559922 108105 20110915 SPX 110917C1005000           1 20110917  20110829\n",
       "2559923 108105 20110915 SPX 110917C1010000           1 20110917  20110829\n",
       "2559924 108105 20110915 SPX 110917C1015000           1 20110917  20110912\n",
       "2559925 108105 20110915 SPX 110917C1020000           1 20110917  20110909\n",
       "        cp_flag strike_price best_bid best_offer\n",
       "2559920       C       100000   1106.4     1110.0\n",
       "2559921       C      1000000    206.4      210.0\n",
       "2559922       C      1005000    200.2      204.1\n",
       "2559923       C      1010000    195.2      199.1\n",
       "2559924       C      1015000    190.2      194.1\n",
       "2559925       C      1020000    186.5      190.1"
      ]
     },
     "execution_count": 4,
     "metadata": {},
     "output_type": "execute_result"
    }
   ],
   "source": [
    "load(\"spxOptionMetrics.rData\")\n",
    "\n",
    "# Inspect the raw data\n",
    "head(spxData110915[,1:10])"
   ]
  },
  {
   "cell_type": "markdown",
   "metadata": {},
   "source": [
    "###3.  (20 points) \n",
    "\n",
    "(a)\n",
    "Write a function in R called *generateIvols* that inputs *spxData110915* and outputs bid and offer implied volatilities for all strikes and expirations in a data frame that has the same format as the dataframe `spxOptData` from Lecture 5.\n",
    "\n",
    "\n",
    "(b)\n",
    "Plot your results using *plotIvols()*; your picture should look something like Figure 6 in the lecture slides (without the orange SVI fit of course).\n"
   ]
  },
  {
   "cell_type": "markdown",
   "metadata": {},
   "source": [
    "##Rough calibration of the Heston parameters"
   ]
  },
  {
   "cell_type": "markdown",
   "metadata": {},
   "source": [
    "###4.  (20 points) \n",
    "\n",
    "(a)\n",
    "Using the Lecture 5 R-code as a base, write R-code to fit the approximate formula (23) for ATM variance skew to the empirical ATM skew estimates in Table 2. \n",
    "\n",
    "\n",
    "(b)\n",
    "Using your code from (a) and all the points, assuming $\\rho=-0.7$, estimate the Heston parameters $\\lambda$ and $\\eta$. How similar are your estimates the Heston parameters $\\lambda$ and $\\eta$ to the estimates from September 2005 listed in Table 3 of Lecture 5?  Are Heston fitted parameters stable over time?\n",
    "\n",
    "\n",
    "(c)\n",
    "Repeat (a) and (b) dropping the first three rows of Table 2, as in Lecture 5.\n",
    "\n",
    "\n",
    "(d) Fit a power law of the form $A/T^\\alpha$ to the ATM variance skew data (all points).\n",
    "\n",
    "\n",
    "(e) \n",
    "Superimpose graphs of your resulting ATM skew fits from (b), (c), and (d) to generate a plot like Figure 8 of Lecture 5.\n",
    "\n",
    "\n",
    "(f)\n",
    "Amend the plotIvols() code (renaming it plotIvolsHeston(..)) to take data and Heston parameters as input and superimpose Heston smiles on the empirical smiles.  Using your fitted parameters from (f) to get a picture like Figure 6 (except that Heston doesn't fit!). (You may have to vectorize the *impvolHeston* function to get this to work in the iPython notebook.)\n",
    "\n",
    "(g) \n",
    "Note that the Heston smiles are consistently below the empirical smiles.  Why is that? How do Heston skews compare with empirical skews?"
   ]
  },
  {
   "cell_type": "code",
   "execution_count": null,
   "metadata": {
    "collapsed": false
   },
   "outputs": [],
   "source": []
  }
 ],
 "metadata": {
  "kernelspec": {
   "display_name": "R",
   "language": "",
   "name": "ir"
  },
  "language_info": {
   "codemirror_mode": "r",
   "file_extension": ".r",
   "mimetype": "text/x-r-source",
   "name": "R",
   "pygments_lexer": "r",
   "version": "3.1.3"
  }
 },
 "nbformat": 4,
 "nbformat_minor": 0
}
