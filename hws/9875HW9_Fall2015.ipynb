{
 "cells": [
  {
   "cell_type": "markdown",
   "metadata": {},
   "source": [
    "# MTH9875 Homework 9\n",
    "\n",
    "Assigned: October 29, 2015.\n",
    "Due: November 12, 2015 by 6pm.\n",
    "\n",
    "Late homework **will not be accepted**."
   ]
  },
  {
   "cell_type": "markdown",
   "metadata": {},
   "source": [
    "<font color = \"red\">Homework is to be done by each student individually.  To receive full credit, you must email a completed copy of this iPython notebook to Tai-Ho Wang and Jim Gatheral by the due date and time.  All R-code must run correctly and solutions must be written up neatly in Markdown/LaTeX format."
   ]
  },
  {
   "cell_type": "markdown",
   "metadata": {},
   "source": [
    "### As usual, download some code\n",
    "\n",
    "The following code sources *BlackScholes.R* which has the Black-Scholes formula and implied volatility computation and *Heston2.R* which has in particular the *impvolHeston* function."
   ]
  },
  {
   "cell_type": "code",
   "execution_count": 4,
   "metadata": {
    "collapsed": false
   },
   "outputs": [],
   "source": [
    "download.file(url=\"http://mfe.baruch.cuny.edu/wp-content/uploads/2014/09/BlackScholes.R.zip\", destfile=\"BlackScholes.R.zip\")\n",
    "unzip(zipfile=\"BlackScholes.R.zip\")\n",
    "source(\"BlackScholes.R\")\n",
    "source(\"Heston2.R\")"
   ]
  },
  {
   "cell_type": "markdown",
   "metadata": {},
   "source": [
    "##A special case of Heston: The Heston-Nandi model\n",
    "$$\n",
    "\\newcommand{\\supp}{\\mathrm{supp}}\n",
    "\\newcommand{\\E}{\\mathbb{E} }\n",
    "\\def\\Cov{{ \\mbox{Cov} }}\n",
    "\\def\\Var{{ \\mbox{Var} }}\n",
    "\\newcommand{\\1}{\\mathbf{1} }\n",
    "\\newcommand{\\PP}{\\mathbb{P} }\n",
    "%\\newcommand{\\Pr}{\\mathrm{Pr} }\n",
    "\\newcommand{\\QQ}{\\mathbb{Q} }\n",
    "\\newcommand{\\RR}{\\mathbb{R} }\n",
    "\\newcommand{\\DD}{\\mathbb{D} }\n",
    "\\newcommand{\\HH}{\\mathbb{H} }\n",
    "\\newcommand{\\spn}{\\mathrm{span} }\n",
    "\\newcommand{\\cov}{\\mathrm{cov} }\n",
    "\\newcommand{\\sgn}{\\mathrm{sgn} }\n",
    "\\newcommand{\\HS}{\\mathcal{L}_{\\mathrm{HS}} }\n",
    "%\\newcommand{\\HS}{\\mathrm{HS} }\n",
    "\\newcommand{\\trace}{\\mathrm{trace} }\n",
    "\\newcommand{\\LL}{\\mathcal{L} }\n",
    "%\\newcommand{\\LL}{\\mathrm{L} }\n",
    "\\newcommand{\\s}{\\mathcal{S} }\n",
    "\\newcommand{\\ee}{\\mathcal{E} }\n",
    "\\newcommand{\\ff}{\\mathcal{F} }\n",
    "\\newcommand{\\hh}{\\mathcal{H} }\n",
    "\\newcommand{\\bb}{\\mathcal{B} }\n",
    "\\newcommand{\\dd}{\\mathcal{D} }\n",
    "\\newcommand{\\g}{\\mathcal{G} }\n",
    "\\newcommand{\\p}{\\partial}\n",
    "\\newcommand{\\half}{\\frac{1}{2} }\n",
    "\\newcommand{\\T}{\\mathcal{T} }\n",
    "\\newcommand{\\bi}{\\begin{itemize}}\n",
    "\\newcommand{\\ei}{\\end{itemize}}\n",
    "\\newcommand{\\beq}{\\begin{equation}}\n",
    "\\newcommand{\\eeq}{\\end{equation}}\n",
    "\\newcommand{\\beas}{\\begin{eqnarray*}}\n",
    "\\newcommand{\\eeas}{\\end{eqnarray*}}\n",
    "\\newcommand{\\cO}{\\mathcal{O}}\n",
    "\\newcommand{\\cF}{\\mathcal{F}}\n",
    "\\newcommand{\\cL}{\\mathcal{L}}\n",
    "$$\n",
    "\n",
    "If we believe the argument of Lecture 4 preceding formula (21), if $\\rho=\\pm1$, Heston local variance should be well approximated by (*e.g.* (4.1) on page 44 of The Volatility Surface):\n",
    "\n",
    "<a name=\"eq:Hestonlv\"></a>(1)\n",
    "$$\n",
    "\\beas\n",
    " v_L(x_T,T) &=& \\left[\\hat v'_{ T} \\,-\\, \\eta\n",
    " \\,\\frac{{x_T }}{{w_T }}\\,\\int_0^T {\\hat v_s } \\,e^{\n",
    " - \\lambda '(T - s)} ds \\right]^+\\nonumber\\\\\n",
    " &=&\\left[(v-\\bar v') e^{ - \\lambda' T} +\\bar v' \\,-\\,\\eta \\, x_T\n",
    " \\,\\left\\{ \\frac{1-e^{-\\lambda' T}}{\\lambda' T } \\right\\}\\right]^+\n",
    "\\eeas\n",
    "$$\n",
    "\n",
    "with $ \\lambda ' = \\lambda  +\\frac { \\eta}{2}$, $\\bar v' = \\bar v\n",
    "\\frac {\\lambda }  {\\lambda '}$.  The whole expression must be\n",
    "bounded below by zero - all stock prices above the critical stock\n",
    "price at which the local variance reaches zero are unattainable.\n",
    "\n",
    "\n",
    "\n",
    "\n",
    "\n",
    "\n",
    "\n",
    "Following Chapter 4 of The\n",
    "Volatility Surface, we will show this numerically by simulation.  For each of the problems below, take $T=1$ year as the time horizon with Heston parameters:\n",
    "\\begin{eqnarray*}\n",
    "v&=& 0.04\\\\ \\bar v &=& 0.04\\\\ \\lambda&=&10\\\\ \\eta&=&1\\\\\\rho&=&-1.\n",
    "\\end{eqnarray*}\n",
    "\n"
   ]
  },
  {
   "cell_type": "markdown",
   "metadata": {},
   "source": [
    "###1. (16 points)\n",
    "\n",
    "(a)\n",
    "\n",
    "Use your Monte Carlo code (not QMC!) from HW6 Problem 4 to return vectors of $x=\\log S_T/S_0$ and instantaneous variance $v$ with the above Heston-Nandi parameters.  Run the code with $N=2,000,000$ paths, $m=64$ (128 steps), and *evolve=evolveAlfonsiF* .  (Tip: Save the results so you can reuse these samples of $x$ and $v$ and avoid lengthy reruns of the MC code.)\n",
    "\n",
    "(b)\n",
    "\n",
    "Plot the Heston-Nandi 1-year implied variance smile for log-strikes between $-1.0$ and $1.0$.  Superimpose the implied volatility smile from the Heston quasi-closed form formula.  As usual, nice formatting please!\n",
    "\n",
    "(c)\n",
    "\n",
    "Consider the surface SVI (SSVI) parameterization\n",
    "\n",
    "<a name=\"eq:ssvi\"></a>(2)\n",
    "$$\n",
    "w(k,\\theta_t)\n",
    "= \\frac{\\theta_t}{2}\\left\\{1+\\rho\\varphi(\\theta_t) k + \\sqrt{\\left(\\varphi(\\theta_t){k}+\\rho\\right)^2\n",
    "+(1-\\rho^2 )}\\right\\}.\n",
    "$$\n",
    "\n",
    "Set $t=1$.  Show that the ATM implied variance $\\sigma_{\\text{BS}}^2(0,1) = \\theta$, and that the ATM variance skew $\\p_k \\sigma_{\\text{BS}}^2(k,1)|_{k=0}= \\rho\\,\\theta\\,\\varphi$.\n",
    "\n",
    "(d)\n",
    "\n",
    "Simplify the SSVI formula [(2)](#eq:ssvi) in the special case where $\\rho=-1$. \n",
    "\n",
    "(e)\n",
    "\n",
    "Estimate the Monte Carlo ATM implied variance level and skew.  Assuming $\\rho=-1$, deduce $\\theta$ and $\\varphi$.  Display the resulting SSVI fit on the plot obtained in part (b).  "
   ]
  },
  {
   "cell_type": "markdown",
   "metadata": {},
   "source": [
    "###Numerical check of local volatility formula"
   ]
  },
  {
   "cell_type": "markdown",
   "metadata": {},
   "source": [
    "###2. (6 points) \n",
    "\n",
    "Using  the $x$ and $v$ samples you generated in Problem 1, numerically estimate the local volatility function\n",
    "\n",
    "[(3)](#eq:lvNumerical)\n",
    "$$\n",
    "v_L(x,1)=\\E[v_1|x_1=x]\n",
    "$$\n",
    "\n",
    "Plot local variance $v_L(x,1)$ as a function of $x$ from $x=-0.5$ to $x=+0.5$.  As in HW4, I recommend just binning the data.  Superimpose a graph of formula [(1)](#eq:Hestonlv).  Verify agreement of [(1)](#eq:Hestonlv) and [(3)](#eq:lvNumerical)."
   ]
  },
  {
   "cell_type": "markdown",
   "metadata": {},
   "source": [
    "##Local volatility simulation"
   ]
  },
  {
   "cell_type": "markdown",
   "metadata": {},
   "source": [
    "###3. (10 points) \n",
    "\n",
    "Amend the Monte Carlo code of Problem 1 to generate a vector of $x=\\log S_T/S_0$ assuming the local volatility process:\n",
    "\n",
    "$$\n",
    "dx=-\\frac{1}{2}\\,v_L(x,t)\\,dt+\\sqrt{v_L(x,t)}\\,dZ\n",
    "$$\n",
    "\n",
    "with the approximate formula [(1)](#eq:Hestonlv) for local variance.  Again, with 2 million paths and 128 steps, plot the 1-year volatility smile for log-strikes between $-1.0$ and $1.0$.  Superimpose this smile on the Heston implied volatility smiles generated in Problem 1.  "
   ]
  },
  {
   "cell_type": "markdown",
   "metadata": {},
   "source": [
    "##Intuition"
   ]
  },
  {
   "cell_type": "markdown",
   "metadata": {},
   "source": [
    "###4. (4 points) \n",
    "\n",
    "\n",
    "From the results of your computations, you should see that the local\n",
    "volatility model and the stochastic volatility model price one year\n",
    "European options almost identically.  Also, because  $\\rho=-1$, both the Heston model of Problem 1 and the local volatility model of Problem 2 are only one-factor, depending only on stock prices. Are there any\n",
    "differences between the two models? If so, what are these differences?"
   ]
  },
  {
   "cell_type": "markdown",
   "metadata": {},
   "source": [
    "## Postscript\n",
    "\n",
    "You now have working Heston-Nandi stochastic volatility and local volatility codes.  We will use these later to check our intuition for the impact of dynamical assumptions on the pricing of exotic options."
   ]
  }
 ],
 "metadata": {
  "kernelspec": {
   "display_name": "R",
   "language": "R",
   "name": "ir"
  },
  "language_info": {
   "codemirror_mode": "r",
   "file_extension": ".r",
   "mimetype": "text/x-r-source",
   "name": "R",
   "pygments_lexer": "r",
   "version": "3.2.2"
  }
 },
 "nbformat": 4,
 "nbformat_minor": 0
}
