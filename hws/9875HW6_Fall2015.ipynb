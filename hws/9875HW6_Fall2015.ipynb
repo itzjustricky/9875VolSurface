{
 "cells": [
  {
   "cell_type": "markdown",
   "metadata": {},
   "source": [
    "## MTH9875 Homework 6\n",
    "\n",
    "Assigned: October 8, 2015.\n",
    "Due: October 22, 2015 by 6pm.\n",
    "\n",
    "Late homework **will not be accepted**."
   ]
  },
  {
   "cell_type": "markdown",
   "metadata": {},
   "source": [
    "<font color = \"red\">Homework is to be done by each student individually.  To receive full credit, you must email a completed copy of this iPython notebook to Tai-Ho Wang and Jim Gatheral by the due date and time.  All R-code must run correctly and solutions must be written up neatly in Markdown/LaTeX format."
   ]
  },
  {
   "cell_type": "markdown",
   "metadata": {},
   "source": [
    "### Download some R-code\n",
    "\n",
    "The following code sources *BlackScholes.R* which has the Black-Scholes formula and implied volatility computation and *Heston2.R* which has in particular the *impvolHeston* function."
   ]
  },
  {
   "cell_type": "code",
   "execution_count": 1,
   "metadata": {
    "collapsed": false
   },
   "outputs": [],
   "source": [
    "download.file(url=\"http://mfe.baruch.cuny.edu/wp-content/uploads/2015/10/9875-5.zip\", destfile=\"9875-5.zip\")\n",
    "unzip(zipfile=\"9875-5.zip\")\n",
    "source(\"BlackScholes.R\")"
   ]
  },
  {
   "cell_type": "markdown",
   "metadata": {},
   "source": [
    "###0. (0 points) \n",
    "\n",
    "Read Chapter 6 of The Volatility Surface. "
   ]
  },
  {
   "cell_type": "markdown",
   "metadata": {},
   "source": [
    "##The Kou double-exponential jump diffusion model\n",
    "\n",
    "\n",
    "In the Kou model, the underlying follows a jump-diffusion process of the form\n",
    "\n",
    "$$\n",
    "x_t=\\alpha\\,t+\\sigma\\,W_t+\\sum_{i=1}^{N_t}\\,y_i\n",
    "$$\n",
    "\n",
    "where $\\{N_t\\}$ is the Poisson process counting the jumps of $x$ and $y_i$ are jump sizes.  The distribution of jump sizes is an asymmetric exponential with density\n",
    "\n",
    "<a name=\"eq:KouDensity\"></a>(1)\n",
    "$$\n",
    "\\nu(x)=p\\,\\lambda_+\\,e^{-\\lambda_+\\,x}\\,{\\bf 1}_{x>0}+(1-p)\\,\\lambda_-\\,e^{+\\lambda_-\\,x}\\,{\\bf 1}_{x \\leq 0}.\n",
    "$$"
   ]
  },
  {
   "cell_type": "markdown",
   "metadata": {},
   "source": [
    "###1. (2 points)\n",
    "\n",
    "Conditional on an up-jump, what is the expected size of the jump?\n",
    "\n",
    "\n",
    "$$\n",
    "\\newcommand{\\supp}{\\mathrm{supp}}\n",
    "\\newcommand{\\E}{\\mathbb{E} }\n",
    "\\def\\Cov{{ \\mbox{Cov} }}\n",
    "\\def\\Var{{ \\mbox{Var} }}\n",
    "\\newcommand{\\1}{\\mathbf{1} }\n",
    "\\newcommand{\\PP}{\\mathbb{P} }\n",
    "%\\newcommand{\\Pr}{\\mathrm{Pr} }\n",
    "\\newcommand{\\QQ}{\\mathbb{Q} }\n",
    "\\newcommand{\\RR}{\\mathbb{R} }\n",
    "\\newcommand{\\DD}{\\mathbb{D} }\n",
    "\\newcommand{\\HH}{\\mathbb{H} }\n",
    "\\newcommand{\\spn}{\\mathrm{span} }\n",
    "\\newcommand{\\cov}{\\mathrm{cov} }\n",
    "\\newcommand{\\sgn}{\\mathrm{sgn} }\n",
    "\\newcommand{\\HS}{\\mathcal{L}_{\\mathrm{HS}} }\n",
    "%\\newcommand{\\HS}{\\mathrm{HS} }\n",
    "\\newcommand{\\trace}{\\mathrm{trace} }\n",
    "\\newcommand{\\LL}{\\mathcal{L} }\n",
    "%\\newcommand{\\LL}{\\mathrm{L} }\n",
    "\\newcommand{\\s}{\\mathcal{S} }\n",
    "\\newcommand{\\ee}{\\mathcal{E} }\n",
    "\\newcommand{\\ff}{\\mathcal{F} }\n",
    "\\newcommand{\\hh}{\\mathcal{H} }\n",
    "\\newcommand{\\bb}{\\mathcal{B} }\n",
    "\\newcommand{\\dd}{\\mathcal{D} }\n",
    "\\newcommand{\\g}{\\mathcal{G} }\n",
    "\\newcommand{\\p}{\\partial}\n",
    "\\newcommand{\\half}{\\frac{1}{2} }\n",
    "\\newcommand{\\T}{\\mathcal{T} }\n",
    "\\newcommand{\\bi}{\\begin{itemize}}\n",
    "\\newcommand{\\ei}{\\end{itemize}}\n",
    "\\newcommand{\\beq}{\\begin{equation}}\n",
    "\\newcommand{\\eeq}{\\end{equation}}\n",
    "\\newcommand{\\beas}{\\begin{eqnarray*}}\n",
    "\\newcommand{\\eeas}{\\end{eqnarray*}}\n",
    "\\newcommand{\\cO}{\\mathcal{O}}\n",
    "\\newcommand{\\cF}{\\mathcal{F}}\n",
    "\\newcommand{\\cL}{\\mathcal{L}}\n",
    "$$\n",
    "\n"
   ]
  },
  {
   "cell_type": "markdown",
   "metadata": {},
   "source": [
    "###2. (8 points) \n",
    "\n",
    "Using the Lévy Khintchine formula, derive the characteristic function \n",
    "$\n",
    "\\phi_T(u)=\\exp\\{\\psi(u)\\,T\\}\n",
    "$\n",
    "with\n",
    "\n",
    "<a name=\"eq:KouPsi\"></a>(2)\n",
    "$$\n",
    "\\psi(u)=-\\frac{\\sigma^2}{2}\\,u^2+i\\,\\omega\\,u+i\\,u\\,\\lambda\\,\\left\\{\\frac{p}{\\lambda_+-i\\,u}-\\frac{1-p}{\\lambda_-+i\\,u}\\right\\}\n",
    "$$\n",
    "\n",
    "where $\\lambda$ is the mean jump arrival rate and\n",
    "\n",
    "$$\n",
    "\\omega=-\\frac{\\sigma^2}{2}-\\lambda\\,\\left\\{\\frac{p}{\\lambda_+-1}-\\frac{1-p}{\\lambda_-+1}\\right\\}.\n",
    "$$\n",
    "\n",
    "$\\psi(u)$ is known as the *characteristic exponent* of the Lévy process."
   ]
  },
  {
   "cell_type": "markdown",
   "metadata": {},
   "source": [
    "###3. (6 points) \n",
    "\n",
    "Use the characteristic exponent [(2)](#eq:KouPsi) and Lewis's formula (6) from the notes to plot the one-year implied volatility smile assuming the following parameters:\n",
    "\n",
    "$$\n",
    "\\sigma=0.2; \\,\\lambda=1.0;\\,p=0.25;\\,\\lambda_-=8;\\,\\lambda_+=25;\n",
    "$$\n",
    "\n",
    "The log-strike range should be from $k=-1.0$ to $k=1.0$.  "
   ]
  },
  {
   "cell_type": "markdown",
   "metadata": {},
   "source": [
    "##Jump-Diffusion Monte Carlo"
   ]
  },
  {
   "cell_type": "markdown",
   "metadata": {},
   "source": [
    "###4. (10 points) \n",
    "\n",
    "Write Monte Carlo code to price European options in the Kou model.  With the same parameters as in Problem 3, plot the one-year implied volatility smile from $k=-1.0$ to $k=1.0$.  Verify that you obtain the same implied volatilities."
   ]
  },
  {
   "cell_type": "markdown",
   "metadata": {},
   "source": [
    "##Term structure of ATM skew"
   ]
  },
  {
   "cell_type": "markdown",
   "metadata": {},
   "source": [
    "###5.(4 points) \n",
    "\n",
    "Using formula (8) from the lecture notes:\n",
    "\n",
    "\\begin{equation}\n",
    "\\left.\\frac{\\partial \\sigma_{BS} }{\\partial k }\\right|_{k=0}=-\n",
    "e^{\\frac{\\sigma_{BS}^2 T}{8}} \\sqrt{\\frac{2}{ \\pi}}\\frac{1}{\n",
    "\\sqrt{T}}\\,\\int_0^\\infty\\,du \\, \\frac{u\\,\n",
    "\\mathrm{Im}\\left[\\phi_T(u-i/2)\\right]}\n",
    "{u^2+\\frac{1}{4}},\n",
    "\\end{equation}\n",
    "plot the ATM volatility skew\n",
    "\n",
    "$$\n",
    "\\left.\\frac{\\partial \\sigma_{BS} }{\\partial k }\\right|_{k=0}\n",
    "$$\n",
    "\n",
    "from 0 to 10 years.  Superimpose the curve $a/\\sqrt{T}$, setting $a$ so as to match the one-year ATM skew. "
   ]
  },
  {
   "cell_type": "markdown",
   "metadata": {},
   "source": [
    "##Qualitative assessment of the Kou model"
   ]
  },
  {
   "cell_type": "markdown",
   "metadata": {},
   "source": [
    "###6. (6 points)  \n",
    "\n",
    "Make some clear qualitative comments directed at a non-specialist (*e.g.* your boss who is a trader) as to the suitability of the Kou model for pricing exotic derivatives.  Consider how realistic the process is and how well the model can fit the empirical volatility surface."
   ]
  }
 ],
 "metadata": {
  "kernelspec": {
   "display_name": "R",
   "language": "",
   "name": "ir"
  },
  "language_info": {
   "codemirror_mode": "r",
   "file_extension": ".r",
   "mimetype": "text/x-r-source",
   "name": "R",
   "pygments_lexer": "r",
   "version": "3.1.3"
  }
 },
 "nbformat": 4,
 "nbformat_minor": 0
}
